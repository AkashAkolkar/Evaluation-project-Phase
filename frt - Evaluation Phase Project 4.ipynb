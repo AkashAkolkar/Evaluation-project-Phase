{
 "cells": [
  {
   "cell_type": "markdown",
   "id": "a87b6fa0",
   "metadata": {},
   "source": [
    "# Global Power Plant Prediction"
   ]
  },
  {
   "cell_type": "code",
   "execution_count": null,
   "id": "1723d007",
   "metadata": {},
   "outputs": [],
   "source": []
  },
  {
   "cell_type": "code",
   "execution_count": 2,
   "id": "5d1f9e12",
   "metadata": {},
   "outputs": [],
   "source": [
    "import pandas as pd\n",
    "import numpy as np\n",
    "\n",
    "import matplotlib.pyplot as plt\n",
    "import seaborn as sns\n",
    " \n",
    "import warnings\n",
    "warnings.filterwarnings('ignore')"
   ]
  },
  {
   "cell_type": "code",
   "execution_count": null,
   "id": "e98b67f1",
   "metadata": {},
   "outputs": [],
   "source": []
  },
  {
   "cell_type": "markdown",
   "id": "304400de",
   "metadata": {},
   "source": [
    "# Prediction - 1) Primary fuel"
   ]
  },
  {
   "cell_type": "code",
   "execution_count": null,
   "id": "90314ccc",
   "metadata": {},
   "outputs": [],
   "source": []
  },
  {
   "cell_type": "code",
   "execution_count": 3,
   "id": "1e58624a",
   "metadata": {},
   "outputs": [
    {
     "data": {
      "text/html": [
       "<div>\n",
       "<style scoped>\n",
       "    .dataframe tbody tr th:only-of-type {\n",
       "        vertical-align: middle;\n",
       "    }\n",
       "\n",
       "    .dataframe tbody tr th {\n",
       "        vertical-align: top;\n",
       "    }\n",
       "\n",
       "    .dataframe thead th {\n",
       "        text-align: right;\n",
       "    }\n",
       "</style>\n",
       "<table border=\"1\" class=\"dataframe\">\n",
       "  <thead>\n",
       "    <tr style=\"text-align: right;\">\n",
       "      <th></th>\n",
       "      <th>country</th>\n",
       "      <th>country_long</th>\n",
       "      <th>name</th>\n",
       "      <th>gppd_idnr</th>\n",
       "      <th>capacity_mw</th>\n",
       "      <th>latitude</th>\n",
       "      <th>longitude</th>\n",
       "      <th>primary_fuel</th>\n",
       "      <th>other_fuel1</th>\n",
       "      <th>other_fuel2</th>\n",
       "      <th>other_fuel3</th>\n",
       "      <th>commissioning_year</th>\n",
       "      <th>owner</th>\n",
       "      <th>source</th>\n",
       "      <th>url</th>\n",
       "      <th>geolocation_source</th>\n",
       "      <th>wepp_id</th>\n",
       "      <th>year_of_capacity_data</th>\n",
       "      <th>generation_gwh_2013</th>\n",
       "      <th>generation_gwh_2014</th>\n",
       "      <th>generation_gwh_2015</th>\n",
       "      <th>generation_gwh_2016</th>\n",
       "      <th>generation_gwh_2017</th>\n",
       "      <th>generation_gwh_2018</th>\n",
       "      <th>generation_gwh_2019</th>\n",
       "      <th>generation_data_source</th>\n",
       "      <th>estimated_generation_gwh</th>\n",
       "    </tr>\n",
       "  </thead>\n",
       "  <tbody>\n",
       "    <tr>\n",
       "      <th>0</th>\n",
       "      <td>IND</td>\n",
       "      <td>India</td>\n",
       "      <td>ACME Solar Tower</td>\n",
       "      <td>WRI1020239</td>\n",
       "      <td>2.5</td>\n",
       "      <td>28.1839</td>\n",
       "      <td>73.2407</td>\n",
       "      <td>Solar</td>\n",
       "      <td>NaN</td>\n",
       "      <td>NaN</td>\n",
       "      <td>NaN</td>\n",
       "      <td>2011.0</td>\n",
       "      <td>Solar Paces</td>\n",
       "      <td>National Renewable Energy Laboratory</td>\n",
       "      <td>http://www.nrel.gov/csp/solarpaces/project_det...</td>\n",
       "      <td>National Renewable Energy Laboratory</td>\n",
       "      <td>NaN</td>\n",
       "      <td>NaN</td>\n",
       "      <td>NaN</td>\n",
       "      <td>NaN</td>\n",
       "      <td>NaN</td>\n",
       "      <td>NaN</td>\n",
       "      <td>NaN</td>\n",
       "      <td>NaN</td>\n",
       "      <td>NaN</td>\n",
       "      <td>NaN</td>\n",
       "      <td>NaN</td>\n",
       "    </tr>\n",
       "    <tr>\n",
       "      <th>1</th>\n",
       "      <td>IND</td>\n",
       "      <td>India</td>\n",
       "      <td>ADITYA CEMENT WORKS</td>\n",
       "      <td>WRI1019881</td>\n",
       "      <td>98.0</td>\n",
       "      <td>24.7663</td>\n",
       "      <td>74.6090</td>\n",
       "      <td>Coal</td>\n",
       "      <td>NaN</td>\n",
       "      <td>NaN</td>\n",
       "      <td>NaN</td>\n",
       "      <td>NaN</td>\n",
       "      <td>Ultratech Cement ltd</td>\n",
       "      <td>Ultratech Cement ltd</td>\n",
       "      <td>http://www.ultratechcement.com/</td>\n",
       "      <td>WRI</td>\n",
       "      <td>NaN</td>\n",
       "      <td>NaN</td>\n",
       "      <td>NaN</td>\n",
       "      <td>NaN</td>\n",
       "      <td>NaN</td>\n",
       "      <td>NaN</td>\n",
       "      <td>NaN</td>\n",
       "      <td>NaN</td>\n",
       "      <td>NaN</td>\n",
       "      <td>NaN</td>\n",
       "      <td>NaN</td>\n",
       "    </tr>\n",
       "    <tr>\n",
       "      <th>2</th>\n",
       "      <td>IND</td>\n",
       "      <td>India</td>\n",
       "      <td>AES Saurashtra Windfarms</td>\n",
       "      <td>WRI1026669</td>\n",
       "      <td>39.2</td>\n",
       "      <td>21.9038</td>\n",
       "      <td>69.3732</td>\n",
       "      <td>Wind</td>\n",
       "      <td>NaN</td>\n",
       "      <td>NaN</td>\n",
       "      <td>NaN</td>\n",
       "      <td>NaN</td>\n",
       "      <td>AES</td>\n",
       "      <td>CDM</td>\n",
       "      <td>https://cdm.unfccc.int/Projects/DB/DNV-CUK1328...</td>\n",
       "      <td>WRI</td>\n",
       "      <td>NaN</td>\n",
       "      <td>NaN</td>\n",
       "      <td>NaN</td>\n",
       "      <td>NaN</td>\n",
       "      <td>NaN</td>\n",
       "      <td>NaN</td>\n",
       "      <td>NaN</td>\n",
       "      <td>NaN</td>\n",
       "      <td>NaN</td>\n",
       "      <td>NaN</td>\n",
       "      <td>NaN</td>\n",
       "    </tr>\n",
       "    <tr>\n",
       "      <th>3</th>\n",
       "      <td>IND</td>\n",
       "      <td>India</td>\n",
       "      <td>AGARTALA GT</td>\n",
       "      <td>IND0000001</td>\n",
       "      <td>135.0</td>\n",
       "      <td>23.8712</td>\n",
       "      <td>91.3602</td>\n",
       "      <td>Gas</td>\n",
       "      <td>NaN</td>\n",
       "      <td>NaN</td>\n",
       "      <td>NaN</td>\n",
       "      <td>2004.0</td>\n",
       "      <td>NaN</td>\n",
       "      <td>Central Electricity Authority</td>\n",
       "      <td>http://www.cea.nic.in/</td>\n",
       "      <td>WRI</td>\n",
       "      <td>NaN</td>\n",
       "      <td>2019.0</td>\n",
       "      <td>NaN</td>\n",
       "      <td>617.789264</td>\n",
       "      <td>843.747</td>\n",
       "      <td>886.004428</td>\n",
       "      <td>663.774500</td>\n",
       "      <td>626.239128</td>\n",
       "      <td>NaN</td>\n",
       "      <td>Central Electricity Authority</td>\n",
       "      <td>NaN</td>\n",
       "    </tr>\n",
       "    <tr>\n",
       "      <th>4</th>\n",
       "      <td>IND</td>\n",
       "      <td>India</td>\n",
       "      <td>AKALTARA TPP</td>\n",
       "      <td>IND0000002</td>\n",
       "      <td>1800.0</td>\n",
       "      <td>21.9603</td>\n",
       "      <td>82.4091</td>\n",
       "      <td>Coal</td>\n",
       "      <td>Oil</td>\n",
       "      <td>NaN</td>\n",
       "      <td>NaN</td>\n",
       "      <td>2015.0</td>\n",
       "      <td>NaN</td>\n",
       "      <td>Central Electricity Authority</td>\n",
       "      <td>http://www.cea.nic.in/</td>\n",
       "      <td>WRI</td>\n",
       "      <td>NaN</td>\n",
       "      <td>2019.0</td>\n",
       "      <td>NaN</td>\n",
       "      <td>3035.550000</td>\n",
       "      <td>5916.370</td>\n",
       "      <td>6243.000000</td>\n",
       "      <td>5385.579736</td>\n",
       "      <td>7279.000000</td>\n",
       "      <td>NaN</td>\n",
       "      <td>Central Electricity Authority</td>\n",
       "      <td>NaN</td>\n",
       "    </tr>\n",
       "  </tbody>\n",
       "</table>\n",
       "</div>"
      ],
      "text/plain": [
       "  country country_long                      name   gppd_idnr  capacity_mw  \\\n",
       "0     IND        India          ACME Solar Tower  WRI1020239          2.5   \n",
       "1     IND        India       ADITYA CEMENT WORKS  WRI1019881         98.0   \n",
       "2     IND        India  AES Saurashtra Windfarms  WRI1026669         39.2   \n",
       "3     IND        India               AGARTALA GT  IND0000001        135.0   \n",
       "4     IND        India              AKALTARA TPP  IND0000002       1800.0   \n",
       "\n",
       "   latitude  longitude primary_fuel other_fuel1 other_fuel2  other_fuel3  \\\n",
       "0   28.1839    73.2407        Solar         NaN         NaN          NaN   \n",
       "1   24.7663    74.6090         Coal         NaN         NaN          NaN   \n",
       "2   21.9038    69.3732         Wind         NaN         NaN          NaN   \n",
       "3   23.8712    91.3602          Gas         NaN         NaN          NaN   \n",
       "4   21.9603    82.4091         Coal         Oil         NaN          NaN   \n",
       "\n",
       "   commissioning_year                 owner  \\\n",
       "0              2011.0           Solar Paces   \n",
       "1                 NaN  Ultratech Cement ltd   \n",
       "2                 NaN                   AES   \n",
       "3              2004.0                   NaN   \n",
       "4              2015.0                   NaN   \n",
       "\n",
       "                                 source  \\\n",
       "0  National Renewable Energy Laboratory   \n",
       "1                  Ultratech Cement ltd   \n",
       "2                                   CDM   \n",
       "3         Central Electricity Authority   \n",
       "4         Central Electricity Authority   \n",
       "\n",
       "                                                 url  \\\n",
       "0  http://www.nrel.gov/csp/solarpaces/project_det...   \n",
       "1                    http://www.ultratechcement.com/   \n",
       "2  https://cdm.unfccc.int/Projects/DB/DNV-CUK1328...   \n",
       "3                             http://www.cea.nic.in/   \n",
       "4                             http://www.cea.nic.in/   \n",
       "\n",
       "                     geolocation_source  wepp_id  year_of_capacity_data  \\\n",
       "0  National Renewable Energy Laboratory      NaN                    NaN   \n",
       "1                                   WRI      NaN                    NaN   \n",
       "2                                   WRI      NaN                    NaN   \n",
       "3                                   WRI      NaN                 2019.0   \n",
       "4                                   WRI      NaN                 2019.0   \n",
       "\n",
       "   generation_gwh_2013  generation_gwh_2014  generation_gwh_2015  \\\n",
       "0                  NaN                  NaN                  NaN   \n",
       "1                  NaN                  NaN                  NaN   \n",
       "2                  NaN                  NaN                  NaN   \n",
       "3                  NaN           617.789264              843.747   \n",
       "4                  NaN          3035.550000             5916.370   \n",
       "\n",
       "   generation_gwh_2016  generation_gwh_2017  generation_gwh_2018  \\\n",
       "0                  NaN                  NaN                  NaN   \n",
       "1                  NaN                  NaN                  NaN   \n",
       "2                  NaN                  NaN                  NaN   \n",
       "3           886.004428           663.774500           626.239128   \n",
       "4          6243.000000          5385.579736          7279.000000   \n",
       "\n",
       "   generation_gwh_2019         generation_data_source  \\\n",
       "0                  NaN                            NaN   \n",
       "1                  NaN                            NaN   \n",
       "2                  NaN                            NaN   \n",
       "3                  NaN  Central Electricity Authority   \n",
       "4                  NaN  Central Electricity Authority   \n",
       "\n",
       "   estimated_generation_gwh  \n",
       "0                       NaN  \n",
       "1                       NaN  \n",
       "2                       NaN  \n",
       "3                       NaN  \n",
       "4                       NaN  "
      ]
     },
     "execution_count": 3,
     "metadata": {},
     "output_type": "execute_result"
    }
   ],
   "source": [
    "gpl = pd.read_csv(r'Global_power_plant.csv')\n",
    "pd.set_option('display.max_columns',None)\n",
    "gpl.head()"
   ]
  },
  {
   "cell_type": "code",
   "execution_count": 4,
   "id": "647fd8b6",
   "metadata": {},
   "outputs": [
    {
     "data": {
      "text/plain": [
       "(907, 27)"
      ]
     },
     "execution_count": 4,
     "metadata": {},
     "output_type": "execute_result"
    }
   ],
   "source": [
    "gpl.shape"
   ]
  },
  {
   "cell_type": "markdown",
   "id": "ca4ffcf1",
   "metadata": {},
   "source": [
    "So here we have Global Power Plant dataset with 908 nos of Rows and 27 nos of columns"
   ]
  },
  {
   "cell_type": "code",
   "execution_count": null,
   "id": "38a83457",
   "metadata": {},
   "outputs": [],
   "source": []
  },
  {
   "cell_type": "code",
   "execution_count": 5,
   "id": "2234711d",
   "metadata": {},
   "outputs": [
    {
     "name": "stdout",
     "output_type": "stream",
     "text": [
      "country                       0\n",
      "country_long                  0\n",
      "name                          0\n",
      "gppd_idnr                     0\n",
      "capacity_mw                   0\n",
      "latitude                     46\n",
      "longitude                    46\n",
      "primary_fuel                  0\n",
      "other_fuel1                 709\n",
      "other_fuel2                 906\n",
      "other_fuel3                 907\n",
      "commissioning_year          380\n",
      "owner                       565\n",
      "source                        0\n",
      "url                           0\n",
      "geolocation_source           19\n",
      "wepp_id                     907\n",
      "year_of_capacity_data       388\n",
      "generation_gwh_2013         907\n",
      "generation_gwh_2014         509\n",
      "generation_gwh_2015         485\n",
      "generation_gwh_2016         473\n",
      "generation_gwh_2017         467\n",
      "generation_gwh_2018         459\n",
      "generation_gwh_2019         907\n",
      "generation_data_source      458\n",
      "estimated_generation_gwh    907\n",
      "dtype: int64\n"
     ]
    },
    {
     "data": {
      "text/plain": [
       "<Axes: >"
      ]
     },
     "execution_count": 5,
     "metadata": {},
     "output_type": "execute_result"
    },
    {
     "data": {
      "image/png": "[encoded data removed]",
      "text/plain": [
       "<Figure size 640x480 with 2 Axes>"
      ]
     },
     "metadata": {},
     "output_type": "display_data"
    }
   ],
   "source": [
    "print(gpl.isnull().sum())\n",
    "sns.heatmap(gpl.isnull())"
   ]
  },
  {
   "cell_type": "markdown",
   "id": "fa818e2b",
   "metadata": {},
   "source": [
    "so we have null values in almost all the columns "
   ]
  },
  {
   "cell_type": "markdown",
   "id": "a6fca8d4",
   "metadata": {},
   "source": [
    "we have to drop some of these columns because these columns have total null values present on the columns and will not be contributing any importance in the prediction"
   ]
  },
  {
   "cell_type": "code",
   "execution_count": 6,
   "id": "984a4c16",
   "metadata": {},
   "outputs": [],
   "source": [
    "Null_Value_columns = ['other_fuel1','other_fuel2','other_fuel3','commissioning_year','owner','wepp_id','year_of_capacity_data',\n",
    "                      'generation_gwh_2013','generation_gwh_2014','generation_gwh_2015','generation_gwh_2016',\n",
    "                      'generation_gwh_2017','generation_gwh_2018','generation_data_source','estimated_generation_gwh',\n",
    "                      'generation_gwh_2019']"
   ]
  },
  {
   "cell_type": "code",
   "execution_count": 7,
   "id": "1d36b784",
   "metadata": {},
   "outputs": [
    {
     "data": {
      "text/plain": [
       "['other_fuel1',\n",
       " 'other_fuel2',\n",
       " 'other_fuel3',\n",
       " 'commissioning_year',\n",
       " 'owner',\n",
       " 'wepp_id',\n",
       " 'year_of_capacity_data',\n",
       " 'generation_gwh_2013',\n",
       " 'generation_gwh_2014',\n",
       " 'generation_gwh_2015',\n",
       " 'generation_gwh_2016',\n",
       " 'generation_gwh_2017',\n",
       " 'generation_gwh_2018',\n",
       " 'generation_data_source',\n",
       " 'estimated_generation_gwh',\n",
       " 'generation_gwh_2019']"
      ]
     },
     "execution_count": 7,
     "metadata": {},
     "output_type": "execute_result"
    }
   ],
   "source": [
    "Null_Value_columns"
   ]
  },
  {
   "cell_type": "code",
   "execution_count": 8,
   "id": "9ed51335",
   "metadata": {},
   "outputs": [],
   "source": [
    "gpl.drop(Null_Value_columns,axis = 1,inplace= True)"
   ]
  },
  {
   "cell_type": "code",
   "execution_count": 9,
   "id": "4d1ae805",
   "metadata": {},
   "outputs": [
    {
     "data": {
      "text/plain": [
       "(907, 11)"
      ]
     },
     "execution_count": 9,
     "metadata": {},
     "output_type": "execute_result"
    }
   ],
   "source": [
    "gpl.shape"
   ]
  },
  {
   "cell_type": "markdown",
   "id": "2be8b811",
   "metadata": {},
   "source": [
    "As we can check we have dropped 16 columns from the dataset which are not cruisal for prediction because these 16 columns have more than 50% of Rows with null data "
   ]
  },
  {
   "cell_type": "code",
   "execution_count": null,
   "id": "eccf132a",
   "metadata": {},
   "outputs": [],
   "source": []
  },
  {
   "cell_type": "markdown",
   "id": "c64dac79",
   "metadata": {},
   "source": [
    "Now filling Null values in remaining columns with mean and mode method"
   ]
  },
  {
   "cell_type": "code",
   "execution_count": 10,
   "id": "3a22306d",
   "metadata": {},
   "outputs": [],
   "source": [
    "gpl['latitude'].fillna(gpl['latitude'].mean(),inplace=True)\n",
    "gpl['longitude'].fillna(gpl['longitude'].mean(),inplace=True)\n",
    "gpl['geolocation_source'].fillna(gpl['geolocation_source'].mode()[0],inplace=True)"
   ]
  },
  {
   "cell_type": "code",
   "execution_count": 11,
   "id": "7889f89f",
   "metadata": {
    "scrolled": false
   },
   "outputs": [
    {
     "name": "stdout",
     "output_type": "stream",
     "text": [
      "country               0\n",
      "country_long          0\n",
      "name                  0\n",
      "gppd_idnr             0\n",
      "capacity_mw           0\n",
      "latitude              0\n",
      "longitude             0\n",
      "primary_fuel          0\n",
      "source                0\n",
      "url                   0\n",
      "geolocation_source    0\n",
      "dtype: int64\n"
     ]
    },
    {
     "data": {
      "text/plain": [
       "<Axes: >"
      ]
     },
     "execution_count": 11,
     "metadata": {},
     "output_type": "execute_result"
    },
    {
     "data": {
      "image/png": "[encoded data removed]",
      "text/plain": [
       "<Figure size 640x480 with 2 Axes>"
      ]
     },
     "metadata": {},
     "output_type": "display_data"
    }
   ],
   "source": [
    "print(gpl.isnull().sum())\n",
    "sns.heatmap(gpl.isnull())"
   ]
  },
  {
   "cell_type": "markdown",
   "id": "16285210",
   "metadata": {},
   "source": [
    "NOw we have no null values and also shape of dataset has changed, earlier we had 27 nos of columns and now after dropping unwanted columns we have 11 nos of columns"
   ]
  },
  {
   "cell_type": "code",
   "execution_count": null,
   "id": "fcc27d16",
   "metadata": {},
   "outputs": [],
   "source": []
  },
  {
   "cell_type": "code",
   "execution_count": 12,
   "id": "71d5cca2",
   "metadata": {},
   "outputs": [
    {
     "name": "stdout",
     "output_type": "stream",
     "text": [
      "IND    907\n",
      "Name: country, dtype: int64\n",
      "\n",
      "\n",
      "No of unique values in the column : 1\n",
      "\n",
      "\n",
      "India    907\n",
      "Name: country_long, dtype: int64\n",
      "\n",
      "\n",
      "No of unique values in the column : 1\n",
      "\n",
      "\n",
      "ACME Solar Tower           1\n",
      "RAICHUR                    1\n",
      "PRYAGRAJ (BARA) TPP        1\n",
      "PULICHINTALA               1\n",
      "PUNE MILL                  1\n",
      "                          ..\n",
      "KADANA                     1\n",
      "KADRA                      1\n",
      "KAHALGAON                  1\n",
      "KAIGA                      1\n",
      "iEnergy Theni Wind Farm    1\n",
      "Name: name, Length: 907, dtype: int64\n",
      "\n",
      "\n",
      "No of unique values in the column : 907\n",
      "\n",
      "\n",
      "WRI1020239    1\n",
      "IND0000356    1\n",
      "IND0000346    1\n",
      "IND0000523    1\n",
      "WRI1019978    1\n",
      "             ..\n",
      "IND0000167    1\n",
      "IND0000168    1\n",
      "IND0000169    1\n",
      "IND0000170    1\n",
      "WRI1026761    1\n",
      "Name: gppd_idnr, Length: 907, dtype: int64\n",
      "\n",
      "\n",
      "No of unique values in the column : 907\n",
      "\n",
      "\n",
      "5.0       39\n",
      "10.0      22\n",
      "600.0     20\n",
      "15.0      20\n",
      "1200.0    19\n",
      "          ..\n",
      "291.0      1\n",
      "645.0      1\n",
      "41.4       1\n",
      "17.5       1\n",
      "106.6      1\n",
      "Name: capacity_mw, Length: 361, dtype: int64\n",
      "\n",
      "\n",
      "No of unique values in the column : 361\n",
      "\n",
      "\n",
      "21.197918    46\n",
      "19.000400     3\n",
      "24.191700     3\n",
      "31.268000     2\n",
      "14.235200     2\n",
      "             ..\n",
      "22.755400     1\n",
      "27.159800     1\n",
      "17.297000     1\n",
      "20.877200     1\n",
      "9.934400      1\n",
      "Name: latitude, Length: 837, dtype: int64\n",
      "\n",
      "\n",
      "No of unique values in the column : 837\n",
      "\n",
      "\n",
      "77.464907    46\n",
      "71.691700     4\n",
      "75.898800     3\n",
      "71.691800     3\n",
      "72.898300     3\n",
      "             ..\n",
      "70.396100     1\n",
      "74.239300     1\n",
      "77.043500     1\n",
      "73.825400     1\n",
      "77.476800     1\n",
      "Name: longitude, Length: 828, dtype: int64\n",
      "\n",
      "\n",
      "No of unique values in the column : 828\n",
      "\n",
      "\n",
      "Coal       258\n",
      "Hydro      251\n",
      "Solar      127\n",
      "Wind       123\n",
      "Gas         69\n",
      "Biomass     50\n",
      "Oil         20\n",
      "Nuclear      9\n",
      "Name: primary_fuel, dtype: int64\n",
      "\n",
      "\n",
      "No of unique values in the column : 8\n",
      "\n",
      "\n",
      "Central Electricity Authority                                  519\n",
      "CDM                                                            124\n",
      "Lancosola                                                       10\n",
      "National Renewable Energy Laboratory                             8\n",
      "National Thermal Power Corporation (NTPC)                        6\n",
      "                                                              ... \n",
      "Harsha Engineers Limited                                         1\n",
      "Godawari Energy ltd                                              1\n",
      "Sunkon Energy Private Limited                                    1\n",
      "West Bengal Energy Development Corporation Limited (WBEDCL)      1\n",
      "Yashwantrao Krishna ssk                                          1\n",
      "Name: source, Length: 191, dtype: int64\n",
      "\n",
      "\n",
      "No of unique values in the column : 191\n",
      "\n",
      "\n",
      "http://www.cea.nic.in/                                                              519\n",
      "http://www.lancosolar.com/pdfs/rajasthan-pv-project-details.pdf                       7\n",
      "http://www.ntpc.co.in                                                                 6\n",
      "http://viainfotech.biz/Biomass/theme5/document/green_market/REC-project-list.pdf      5\n",
      "http://www.mahaurja.com/PDF/PG2_GridConnSPPCommissioned.pdf                           4\n",
      "                                                                                   ... \n",
      "https://cdm.unfccc.int/Projects/DB/LRQA%20Ltd1346322352.66/view                       1\n",
      "https://cdm.unfccc.int/Projects/DB/DNV-CUK1351166669.28/view                          1\n",
      "http://harshaengineers.com                                                            1\n",
      "http://hiragroup.com/companies/godawari-green-energy-limited/                         1\n",
      "https://cdm.unfccc.int/Projects/DB/RWTUV1345031355.85/view                            1\n",
      "Name: url, Length: 304, dtype: int64\n",
      "\n",
      "\n",
      "No of unique values in the column : 304\n",
      "\n",
      "\n",
      "WRI                                     784\n",
      "Industry About                          119\n",
      "National Renewable Energy Laboratory      4\n",
      "Name: geolocation_source, dtype: int64\n",
      "\n",
      "\n",
      "No of unique values in the column : 3\n",
      "\n",
      "\n"
     ]
    }
   ],
   "source": [
    "for i in gpl:\n",
    "    print(gpl[i].value_counts())\n",
    "    print('\\n')\n",
    "    print('No of unique values in the column :',gpl[i].nunique())\n",
    "    print('\\n')"
   ]
  },
  {
   "cell_type": "markdown",
   "id": "088cdd43",
   "metadata": {},
   "source": [
    "here we can see that value count in each column which are repeated values and no of unique values present in each columns\n",
    "\n",
    "in country and country_long we have only 1 unique value so we are converting country column as index and dropping country_log\n",
    "\n",
    "and in name and gppd_idnr columns values are totally unique they do not provide any meaningful information so we are dropping these columns too"
   ]
  },
  {
   "cell_type": "code",
   "execution_count": null,
   "id": "f053fd96",
   "metadata": {},
   "outputs": [],
   "source": []
  },
  {
   "cell_type": "code",
   "execution_count": 13,
   "id": "0df7500a",
   "metadata": {},
   "outputs": [],
   "source": [
    "gpl.set_index('country',inplace=True)"
   ]
  },
  {
   "cell_type": "code",
   "execution_count": 14,
   "id": "0ac5655f",
   "metadata": {},
   "outputs": [
    {
     "data": {
      "text/plain": [
       "(907, 10)"
      ]
     },
     "execution_count": 14,
     "metadata": {},
     "output_type": "execute_result"
    }
   ],
   "source": [
    "gpl.shape"
   ]
  },
  {
   "cell_type": "markdown",
   "id": "59943f74",
   "metadata": {},
   "source": [
    "country column has converted to the index"
   ]
  },
  {
   "cell_type": "code",
   "execution_count": null,
   "id": "9802bc83",
   "metadata": {},
   "outputs": [],
   "source": []
  },
  {
   "cell_type": "code",
   "execution_count": 15,
   "id": "60d9ddf6",
   "metadata": {},
   "outputs": [],
   "source": [
    "col_drop = ['country_long','name','gppd_idnr'] \n",
    "gpl.drop(columns = col_drop,inplace=True)"
   ]
  },
  {
   "cell_type": "code",
   "execution_count": 16,
   "id": "0215327f",
   "metadata": {},
   "outputs": [
    {
     "data": {
      "text/plain": [
       "(907, 7)"
      ]
     },
     "execution_count": 16,
     "metadata": {},
     "output_type": "execute_result"
    }
   ],
   "source": [
    "gpl.shape"
   ]
  },
  {
   "cell_type": "markdown",
   "id": "e9c2e2ac",
   "metadata": {},
   "source": [
    "So we have dropped country_long, name and gppd_idnr columns "
   ]
  },
  {
   "cell_type": "code",
   "execution_count": null,
   "id": "be2c0ea0",
   "metadata": {},
   "outputs": [],
   "source": []
  },
  {
   "cell_type": "code",
   "execution_count": 17,
   "id": "39acd76b",
   "metadata": {},
   "outputs": [
    {
     "data": {
      "text/plain": [
       "capacity_mw           float64\n",
       "latitude              float64\n",
       "longitude             float64\n",
       "primary_fuel           object\n",
       "source                 object\n",
       "url                    object\n",
       "geolocation_source     object\n",
       "dtype: object"
      ]
     },
     "execution_count": 17,
     "metadata": {},
     "output_type": "execute_result"
    }
   ],
   "source": [
    "gpl.dtypes"
   ]
  },
  {
   "cell_type": "markdown",
   "id": "d51910a4",
   "metadata": {},
   "source": [
    "Here we can check datatype of each columns in the dataset\n",
    "\n",
    "we have object and float datatypes in the dataset"
   ]
  },
  {
   "cell_type": "code",
   "execution_count": null,
   "id": "8eaf4ba6",
   "metadata": {},
   "outputs": [],
   "source": []
  },
  {
   "cell_type": "code",
   "execution_count": 18,
   "id": "070b9a6a",
   "metadata": {},
   "outputs": [
    {
     "name": "stdout",
     "output_type": "stream",
     "text": [
      "<class 'pandas.core.frame.DataFrame'>\n",
      "Index: 907 entries, IND to IND\n",
      "Data columns (total 7 columns):\n",
      " #   Column              Non-Null Count  Dtype  \n",
      "---  ------              --------------  -----  \n",
      " 0   capacity_mw         907 non-null    float64\n",
      " 1   latitude            907 non-null    float64\n",
      " 2   longitude           907 non-null    float64\n",
      " 3   primary_fuel        907 non-null    object \n",
      " 4   source              907 non-null    object \n",
      " 5   url                 907 non-null    object \n",
      " 6   geolocation_source  907 non-null    object \n",
      "dtypes: float64(3), object(4)\n",
      "memory usage: 56.7+ KB\n"
     ]
    }
   ],
   "source": [
    "gpl.info()"
   ]
  },
  {
   "cell_type": "markdown",
   "id": "47cb79c3",
   "metadata": {},
   "source": [
    "Here we can check for null values, datatypes, nos of Rows and Columns and memory usage by dataset which is 78.1+ KB"
   ]
  },
  {
   "cell_type": "code",
   "execution_count": null,
   "id": "23ac0e3e",
   "metadata": {},
   "outputs": [],
   "source": []
  },
  {
   "cell_type": "code",
   "execution_count": 19,
   "id": "a89cddb6",
   "metadata": {},
   "outputs": [
    {
     "data": {
      "text/html": [
       "<div>\n",
       "<style scoped>\n",
       "    .dataframe tbody tr th:only-of-type {\n",
       "        vertical-align: middle;\n",
       "    }\n",
       "\n",
       "    .dataframe tbody tr th {\n",
       "        vertical-align: top;\n",
       "    }\n",
       "\n",
       "    .dataframe thead th {\n",
       "        text-align: right;\n",
       "    }\n",
       "</style>\n",
       "<table border=\"1\" class=\"dataframe\">\n",
       "  <thead>\n",
       "    <tr style=\"text-align: right;\">\n",
       "      <th></th>\n",
       "      <th>capacity_mw</th>\n",
       "      <th>latitude</th>\n",
       "      <th>longitude</th>\n",
       "    </tr>\n",
       "  </thead>\n",
       "  <tbody>\n",
       "    <tr>\n",
       "      <th>count</th>\n",
       "      <td>907.000000</td>\n",
       "      <td>907.000000</td>\n",
       "      <td>907.000000</td>\n",
       "    </tr>\n",
       "    <tr>\n",
       "      <th>mean</th>\n",
       "      <td>326.223755</td>\n",
       "      <td>21.197918</td>\n",
       "      <td>77.464907</td>\n",
       "    </tr>\n",
       "    <tr>\n",
       "      <th>std</th>\n",
       "      <td>590.085456</td>\n",
       "      <td>6.079148</td>\n",
       "      <td>4.812291</td>\n",
       "    </tr>\n",
       "    <tr>\n",
       "      <th>min</th>\n",
       "      <td>0.000000</td>\n",
       "      <td>8.168900</td>\n",
       "      <td>68.644700</td>\n",
       "    </tr>\n",
       "    <tr>\n",
       "      <th>25%</th>\n",
       "      <td>16.725000</td>\n",
       "      <td>17.072000</td>\n",
       "      <td>74.388900</td>\n",
       "    </tr>\n",
       "    <tr>\n",
       "      <th>50%</th>\n",
       "      <td>59.200000</td>\n",
       "      <td>21.281800</td>\n",
       "      <td>76.979200</td>\n",
       "    </tr>\n",
       "    <tr>\n",
       "      <th>75%</th>\n",
       "      <td>385.250000</td>\n",
       "      <td>25.176450</td>\n",
       "      <td>79.206100</td>\n",
       "    </tr>\n",
       "    <tr>\n",
       "      <th>max</th>\n",
       "      <td>4760.000000</td>\n",
       "      <td>34.649000</td>\n",
       "      <td>95.408000</td>\n",
       "    </tr>\n",
       "  </tbody>\n",
       "</table>\n",
       "</div>"
      ],
      "text/plain": [
       "       capacity_mw    latitude   longitude\n",
       "count   907.000000  907.000000  907.000000\n",
       "mean    326.223755   21.197918   77.464907\n",
       "std     590.085456    6.079148    4.812291\n",
       "min       0.000000    8.168900   68.644700\n",
       "25%      16.725000   17.072000   74.388900\n",
       "50%      59.200000   21.281800   76.979200\n",
       "75%     385.250000   25.176450   79.206100\n",
       "max    4760.000000   34.649000   95.408000"
      ]
     },
     "execution_count": 19,
     "metadata": {},
     "output_type": "execute_result"
    }
   ],
   "source": [
    "gpl.describe()"
   ]
  },
  {
   "cell_type": "markdown",
   "id": "f8708dc3",
   "metadata": {},
   "source": [
    "here we can check for which type of distribution can these columns might have\n",
    "\n",
    "for capacity mw columns mean is much greater than median so here so there is right skewness present, and difference between 3rd IQR and max values are very high so there are outliers present \n",
    "\n",
    "and in remaining 2 columns mean and median are almost the same"
   ]
  },
  {
   "cell_type": "code",
   "execution_count": null,
   "id": "1050eecd",
   "metadata": {},
   "outputs": [],
   "source": []
  },
  {
   "cell_type": "markdown",
   "id": "856ce5f7",
   "metadata": {},
   "source": [
    "#### Univariate Analysis"
   ]
  },
  {
   "cell_type": "code",
   "execution_count": 20,
   "id": "c99045bc",
   "metadata": {},
   "outputs": [
    {
     "data": {
      "text/plain": [
       "Text(0.5, 1.0, 'Countplot for primary_fuel')"
      ]
     },
     "execution_count": 20,
     "metadata": {},
     "output_type": "execute_result"
    },
    {
     "data": {
      "image/png": "[encoded data removed]",
      "text/plain": [
       "<Figure size 640x480 with 1 Axes>"
      ]
     },
     "metadata": {},
     "output_type": "display_data"
    }
   ],
   "source": [
    "sns.countplot(x=gpl['primary_fuel'])\n",
    "plt.title('Countplot for primary_fuel')"
   ]
  },
  {
   "cell_type": "code",
   "execution_count": null,
   "id": "9523f105",
   "metadata": {},
   "outputs": [],
   "source": []
  },
  {
   "cell_type": "code",
   "execution_count": null,
   "id": "ed68fb5d",
   "metadata": {},
   "outputs": [],
   "source": []
  },
  {
   "cell_type": "code",
   "execution_count": 21,
   "id": "04d99935",
   "metadata": {},
   "outputs": [
    {
     "data": {
      "image/png": "[encoded data removed]",
      "text/plain": [
       "<Figure size 600x400 with 1 Axes>"
      ]
     },
     "metadata": {},
     "output_type": "display_data"
    }
   ],
   "source": [
    "plt.figure(figsize = (6,4))\n",
    "sns.distplot(gpl['capacity_mw'], color='red')\n",
    "plt.title('distribution for capacity_mw')\n",
    "plt.show()"
   ]
  },
  {
   "cell_type": "code",
   "execution_count": null,
   "id": "90c7c77e",
   "metadata": {},
   "outputs": [],
   "source": []
  },
  {
   "cell_type": "code",
   "execution_count": 22,
   "id": "b9fb79a2",
   "metadata": {
    "scrolled": false
   },
   "outputs": [
    {
     "data": {
      "text/plain": [
       "Text(0.5, 1.0, 'Countplot for geolocation_source')"
      ]
     },
     "execution_count": 22,
     "metadata": {},
     "output_type": "execute_result"
    },
    {
     "data": {
      "image/png": "[encoded data removed]",
      "text/plain": [
       "<Figure size 640x480 with 1 Axes>"
      ]
     },
     "metadata": {},
     "output_type": "display_data"
    }
   ],
   "source": [
    "sns.countplot(x=gpl['geolocation_source'])\n",
    "plt.title('Countplot for geolocation_source')"
   ]
  },
  {
   "cell_type": "code",
   "execution_count": null,
   "id": "438c2df3",
   "metadata": {},
   "outputs": [],
   "source": []
  },
  {
   "cell_type": "markdown",
   "id": "1d400abc",
   "metadata": {},
   "source": [
    "#### Bivariate Analysis"
   ]
  },
  {
   "cell_type": "code",
   "execution_count": null,
   "id": "e6af9388",
   "metadata": {},
   "outputs": [],
   "source": []
  },
  {
   "cell_type": "code",
   "execution_count": 23,
   "id": "c028adb4",
   "metadata": {},
   "outputs": [
    {
     "data": {
      "image/png": "[encoded data removed]",
      "text/plain": [
       "<Figure size 640x480 with 1 Axes>"
      ]
     },
     "metadata": {},
     "output_type": "display_data"
    }
   ],
   "source": [
    "plt.scatter(gpl['primary_fuel'], gpl['capacity_mw'])\n",
    "plt.xlabel('primary_fuel')\n",
    "plt.ylabel('capacity_mw')\n",
    "plt.show()"
   ]
  },
  {
   "cell_type": "code",
   "execution_count": null,
   "id": "a707d3ab",
   "metadata": {},
   "outputs": [],
   "source": []
  },
  {
   "cell_type": "code",
   "execution_count": null,
   "id": "542efb39",
   "metadata": {},
   "outputs": [],
   "source": []
  },
  {
   "cell_type": "code",
   "execution_count": 24,
   "id": "0d0ba313",
   "metadata": {},
   "outputs": [
    {
     "data": {
      "image/png": "[encoded data removed]",
      "text/plain": [
       "<Figure size 640x480 with 1 Axes>"
      ]
     },
     "metadata": {},
     "output_type": "display_data"
    }
   ],
   "source": [
    "plt.scatter(gpl['geolocation_source'], gpl['primary_fuel'])\n",
    "plt.xlabel('geolocation_source')\n",
    "plt.ylabel('primary_fuel')\n",
    "plt.show()"
   ]
  },
  {
   "cell_type": "code",
   "execution_count": null,
   "id": "0ab751e3",
   "metadata": {},
   "outputs": [],
   "source": []
  },
  {
   "cell_type": "code",
   "execution_count": 25,
   "id": "a606c3b4",
   "metadata": {},
   "outputs": [
    {
     "data": {
      "text/plain": [
       "Index(['capacity_mw', 'latitude', 'longitude'], dtype='object')"
      ]
     },
     "execution_count": 25,
     "metadata": {},
     "output_type": "execute_result"
    }
   ],
   "source": [
    "num_col = gpl.select_dtypes(['float']).columns\n",
    "num_col"
   ]
  },
  {
   "cell_type": "code",
   "execution_count": 26,
   "id": "1de8df47",
   "metadata": {},
   "outputs": [
    {
     "data": {
      "text/plain": [
       "Index(['primary_fuel', 'source', 'url', 'geolocation_source'], dtype='object')"
      ]
     },
     "execution_count": 26,
     "metadata": {},
     "output_type": "execute_result"
    }
   ],
   "source": [
    "cat_col = gpl.select_dtypes(['object']).columns\n",
    "cat_col"
   ]
  },
  {
   "cell_type": "code",
   "execution_count": null,
   "id": "f981a652",
   "metadata": {},
   "outputs": [],
   "source": [
    "\n"
   ]
  },
  {
   "cell_type": "code",
   "execution_count": 26,
   "id": "be4c2a48",
   "metadata": {},
   "outputs": [
    {
     "data": {
      "image/png": "[encoded data removed]",
      "text/plain": [
       "<Figure size 1200x4000 with 3 Axes>"
      ]
     },
     "metadata": {},
     "output_type": "display_data"
    }
   ],
   "source": [
    "plt.figure(figsize=(12,40))\n",
    "plot = 1\n",
    "for col in num_col:\n",
    "    if plot<=32:\n",
    "        plt.subplot(12,3,plot)\n",
    "        sns.boxplot(gpl[col])\n",
    "        plt.xlabel(col)\n",
    "    plot+=1\n",
    "plt.show()"
   ]
  },
  {
   "cell_type": "code",
   "execution_count": null,
   "id": "034766e4",
   "metadata": {},
   "outputs": [],
   "source": []
  },
  {
   "cell_type": "code",
   "execution_count": 27,
   "id": "9b5e36f0",
   "metadata": {},
   "outputs": [],
   "source": [
    "from scipy.stats import zscore"
   ]
  },
  {
   "cell_type": "code",
   "execution_count": 28,
   "id": "22f8601f",
   "metadata": {},
   "outputs": [
    {
     "data": {
      "text/html": [
       "<div>\n",
       "<style scoped>\n",
       "    .dataframe tbody tr th:only-of-type {\n",
       "        vertical-align: middle;\n",
       "    }\n",
       "\n",
       "    .dataframe tbody tr th {\n",
       "        vertical-align: top;\n",
       "    }\n",
       "\n",
       "    .dataframe thead th {\n",
       "        text-align: right;\n",
       "    }\n",
       "</style>\n",
       "<table border=\"1\" class=\"dataframe\">\n",
       "  <thead>\n",
       "    <tr style=\"text-align: right;\">\n",
       "      <th></th>\n",
       "      <th>capacity_mw</th>\n",
       "      <th>longitude</th>\n",
       "    </tr>\n",
       "    <tr>\n",
       "      <th>country</th>\n",
       "      <th></th>\n",
       "      <th></th>\n",
       "    </tr>\n",
       "  </thead>\n",
       "  <tbody>\n",
       "    <tr>\n",
       "      <th>IND</th>\n",
       "      <td>0.548908</td>\n",
       "      <td>0.878280</td>\n",
       "    </tr>\n",
       "    <tr>\n",
       "      <th>IND</th>\n",
       "      <td>0.386977</td>\n",
       "      <td>0.593788</td>\n",
       "    </tr>\n",
       "    <tr>\n",
       "      <th>IND</th>\n",
       "      <td>0.486679</td>\n",
       "      <td>1.682394</td>\n",
       "    </tr>\n",
       "    <tr>\n",
       "      <th>IND</th>\n",
       "      <td>0.324240</td>\n",
       "      <td>2.889052</td>\n",
       "    </tr>\n",
       "    <tr>\n",
       "      <th>IND</th>\n",
       "      <td>2.498942</td>\n",
       "      <td>1.027976</td>\n",
       "    </tr>\n",
       "    <tr>\n",
       "      <th>...</th>\n",
       "      <td>...</td>\n",
       "      <td>...</td>\n",
       "    </tr>\n",
       "    <tr>\n",
       "      <th>IND</th>\n",
       "      <td>2.159821</td>\n",
       "      <td>0.022477</td>\n",
       "    </tr>\n",
       "    <tr>\n",
       "      <th>IND</th>\n",
       "      <td>0.548060</td>\n",
       "      <td>0.145644</td>\n",
       "    </tr>\n",
       "    <tr>\n",
       "      <th>IND</th>\n",
       "      <td>0.509909</td>\n",
       "      <td>0.391673</td>\n",
       "    </tr>\n",
       "    <tr>\n",
       "      <th>IND</th>\n",
       "      <td>0.417498</td>\n",
       "      <td>0.772866</td>\n",
       "    </tr>\n",
       "    <tr>\n",
       "      <th>IND</th>\n",
       "      <td>0.525169</td>\n",
       "      <td>0.002473</td>\n",
       "    </tr>\n",
       "  </tbody>\n",
       "</table>\n",
       "<p>907 rows × 2 columns</p>\n",
       "</div>"
      ],
      "text/plain": [
       "         capacity_mw  longitude\n",
       "country                        \n",
       "IND         0.548908   0.878280\n",
       "IND         0.386977   0.593788\n",
       "IND         0.486679   1.682394\n",
       "IND         0.324240   2.889052\n",
       "IND         2.498942   1.027976\n",
       "...              ...        ...\n",
       "IND         2.159821   0.022477\n",
       "IND         0.548060   0.145644\n",
       "IND         0.509909   0.391673\n",
       "IND         0.417498   0.772866\n",
       "IND         0.525169   0.002473\n",
       "\n",
       "[907 rows x 2 columns]"
      ]
     },
     "execution_count": 28,
     "metadata": {},
     "output_type": "execute_result"
    }
   ],
   "source": [
    "df1 = gpl[['capacity_mw','longitude']]\n",
    "z=np.abs(zscore(df1))\n",
    "z"
   ]
  },
  {
   "cell_type": "code",
   "execution_count": 29,
   "id": "17982869",
   "metadata": {},
   "outputs": [
    {
     "data": {
      "text/plain": [
       "(array([ 15, 143, 147, 179, 183, 209, 244, 308, 323, 333, 340, 360, 363,\n",
       "        364, 375, 416, 427, 482, 493, 494, 499, 519, 546, 577, 638, 648,\n",
       "        657, 695, 726, 767, 786, 788, 808, 818, 847, 880], dtype=int64),\n",
       " array([0, 0, 0, 1, 1, 0, 1, 0, 1, 1, 1, 1, 0, 0, 0, 1, 1, 0, 0, 0, 1, 1,\n",
       "        1, 1, 1, 0, 0, 0, 0, 0, 0, 0, 0, 1, 1, 0], dtype=int64))"
      ]
     },
     "execution_count": 29,
     "metadata": {},
     "output_type": "execute_result"
    }
   ],
   "source": [
    "np.where(z>3)"
   ]
  },
  {
   "cell_type": "code",
   "execution_count": null,
   "id": "b8777abe",
   "metadata": {},
   "outputs": [],
   "source": []
  },
  {
   "cell_type": "code",
   "execution_count": 30,
   "id": "2e39c037",
   "metadata": {},
   "outputs": [
    {
     "data": {
      "text/plain": [
       "(871, 7)"
      ]
     },
     "execution_count": 30,
     "metadata": {},
     "output_type": "execute_result"
    }
   ],
   "source": [
    "df1 = gpl[(z<3).all(axis=1)]\n",
    "df1.shape"
   ]
  },
  {
   "cell_type": "code",
   "execution_count": 31,
   "id": "0c025c36",
   "metadata": {},
   "outputs": [
    {
     "name": "stdout",
     "output_type": "stream",
     "text": [
      "Loss of Data in percentage 3.9691289966923926\n"
     ]
    }
   ],
   "source": [
    "print('Loss of Data in percentage',((gpl.shape[0]-df1.shape[0])/gpl.shape[0])*100)"
   ]
  },
  {
   "cell_type": "code",
   "execution_count": null,
   "id": "2c3e6c60",
   "metadata": {},
   "outputs": [],
   "source": []
  },
  {
   "cell_type": "code",
   "execution_count": 32,
   "id": "28bae49c",
   "metadata": {},
   "outputs": [
    {
     "data": {
      "text/plain": [
       "capacity_mw    3.123576\n",
       "latitude      -0.149698\n",
       "longitude      1.141881\n",
       "dtype: float64"
      ]
     },
     "execution_count": 32,
     "metadata": {},
     "output_type": "execute_result"
    }
   ],
   "source": [
    "gpl.skew()"
   ]
  },
  {
   "cell_type": "code",
   "execution_count": null,
   "id": "0ac9f9d8",
   "metadata": {},
   "outputs": [],
   "source": []
  },
  {
   "cell_type": "code",
   "execution_count": 33,
   "id": "0fb73a25",
   "metadata": {},
   "outputs": [],
   "source": [
    "gpl['capacity_mw'] = np.cbrt(gpl['capacity_mw'])\n",
    "gpl['longitude'] = np.cbrt(gpl['longitude'])"
   ]
  },
  {
   "cell_type": "code",
   "execution_count": 34,
   "id": "d2c65927",
   "metadata": {},
   "outputs": [
    {
     "data": {
      "text/plain": [
       "capacity_mw    1.013378\n",
       "latitude      -0.149698\n",
       "longitude      1.002134\n",
       "dtype: float64"
      ]
     },
     "execution_count": 34,
     "metadata": {},
     "output_type": "execute_result"
    }
   ],
   "source": [
    "gpl.skew()"
   ]
  },
  {
   "cell_type": "code",
   "execution_count": null,
   "id": "d4f50d55",
   "metadata": {},
   "outputs": [],
   "source": []
  },
  {
   "cell_type": "markdown",
   "id": "9223b090",
   "metadata": {},
   "source": [
    "Encoding Categorical columns"
   ]
  },
  {
   "cell_type": "code",
   "execution_count": 35,
   "id": "f7821266",
   "metadata": {},
   "outputs": [],
   "source": [
    "import sklearn\n",
    "from sklearn.preprocessing import LabelEncoder"
   ]
  },
  {
   "cell_type": "code",
   "execution_count": 36,
   "id": "f6799754",
   "metadata": {},
   "outputs": [
    {
     "data": {
      "text/html": [
       "<style>#sk-container-id-1 {color: black;background-color: white;}#sk-container-id-1 pre{padding: 0;}#sk-container-id-1 div.sk-toggleable {background-color: white;}#sk-container-id-1 label.sk-toggleable__label {cursor: pointer;display: block;width: 100%;margin-bottom: 0;padding: 0.3em;box-sizing: border-box;text-align: center;}#sk-container-id-1 label.sk-toggleable__label-arrow:before {content: \"▸\";float: left;margin-right: 0.25em;color: #696969;}#sk-container-id-1 label.sk-toggleable__label-arrow:hover:before {color: black;}#sk-container-id-1 div.sk-estimator:hover label.sk-toggleable__label-arrow:before {color: black;}#sk-container-id-1 div.sk-toggleable__content {max-height: 0;max-width: 0;overflow: hidden;text-align: left;background-color: #f0f8ff;}#sk-container-id-1 div.sk-toggleable__content pre {margin: 0.2em;color: black;border-radius: 0.25em;background-color: #f0f8ff;}#sk-container-id-1 input.sk-toggleable__control:checked~div.sk-toggleable__content {max-height: 200px;max-width: 100%;overflow: auto;}#sk-container-id-1 input.sk-toggleable__control:checked~label.sk-toggleable__label-arrow:before {content: \"▾\";}#sk-container-id-1 div.sk-estimator input.sk-toggleable__control:checked~label.sk-toggleable__label {background-color: #d4ebff;}#sk-container-id-1 div.sk-label input.sk-toggleable__control:checked~label.sk-toggleable__label {background-color: #d4ebff;}#sk-container-id-1 input.sk-hidden--visually {border: 0;clip: rect(1px 1px 1px 1px);clip: rect(1px, 1px, 1px, 1px);height: 1px;margin: -1px;overflow: hidden;padding: 0;position: absolute;width: 1px;}#sk-container-id-1 div.sk-estimator {font-family: monospace;background-color: #f0f8ff;border: 1px dotted black;border-radius: 0.25em;box-sizing: border-box;margin-bottom: 0.5em;}#sk-container-id-1 div.sk-estimator:hover {background-color: #d4ebff;}#sk-container-id-1 div.sk-parallel-item::after {content: \"\";width: 100%;border-bottom: 1px solid gray;flex-grow: 1;}#sk-container-id-1 div.sk-label:hover label.sk-toggleable__label {background-color: #d4ebff;}#sk-container-id-1 div.sk-serial::before {content: \"\";position: absolute;border-left: 1px solid gray;box-sizing: border-box;top: 0;bottom: 0;left: 50%;z-index: 0;}#sk-container-id-1 div.sk-serial {display: flex;flex-direction: column;align-items: center;background-color: white;padding-right: 0.2em;padding-left: 0.2em;position: relative;}#sk-container-id-1 div.sk-item {position: relative;z-index: 1;}#sk-container-id-1 div.sk-parallel {display: flex;align-items: stretch;justify-content: center;background-color: white;position: relative;}#sk-container-id-1 div.sk-item::before, #sk-container-id-1 div.sk-parallel-item::before {content: \"\";position: absolute;border-left: 1px solid gray;box-sizing: border-box;top: 0;bottom: 0;left: 50%;z-index: -1;}#sk-container-id-1 div.sk-parallel-item {display: flex;flex-direction: column;z-index: 1;position: relative;background-color: white;}#sk-container-id-1 div.sk-parallel-item:first-child::after {align-self: flex-end;width: 50%;}#sk-container-id-1 div.sk-parallel-item:last-child::after {align-self: flex-start;width: 50%;}#sk-container-id-1 div.sk-parallel-item:only-child::after {width: 0;}#sk-container-id-1 div.sk-dashed-wrapped {border: 1px dashed gray;margin: 0 0.4em 0.5em 0.4em;box-sizing: border-box;padding-bottom: 0.4em;background-color: white;}#sk-container-id-1 div.sk-label label {font-family: monospace;font-weight: bold;display: inline-block;line-height: 1.2em;}#sk-container-id-1 div.sk-label-container {text-align: center;}#sk-container-id-1 div.sk-container {/* jupyter's `normalize.less` sets `[hidden] { display: none; }` but bootstrap.min.css set `[hidden] { display: none !important; }` so we also need the `!important` here to be able to override the default hidden behavior on the sphinx rendered scikit-learn.org. See: https://github.com/scikit-learn/scikit-learn/issues/21755 */display: inline-block !important;position: relative;}#sk-container-id-1 div.sk-text-repr-fallback {display: none;}</style><div id=\"sk-container-id-1\" class=\"sk-top-container\"><div class=\"sk-text-repr-fallback\"><pre>LabelEncoder()</pre><b>In a Jupyter environment, please rerun this cell to show the HTML representation or trust the notebook. <br />On GitHub, the HTML representation is unable to render, please try loading this page with nbviewer.org.</b></div><div class=\"sk-container\" hidden><div class=\"sk-item\"><div class=\"sk-estimator sk-toggleable\"><input class=\"sk-toggleable__control sk-hidden--visually\" id=\"sk-estimator-id-1\" type=\"checkbox\" checked><label for=\"sk-estimator-id-1\" class=\"sk-toggleable__label sk-toggleable__label-arrow\">LabelEncoder</label><div class=\"sk-toggleable__content\"><pre>LabelEncoder()</pre></div></div></div></div></div>"
      ],
      "text/plain": [
       "LabelEncoder()"
      ]
     },
     "execution_count": 36,
     "metadata": {},
     "output_type": "execute_result"
    }
   ],
   "source": [
    "le = LabelEncoder()\n",
    "le"
   ]
  },
  {
   "cell_type": "code",
   "execution_count": 37,
   "id": "43de7e18",
   "metadata": {},
   "outputs": [],
   "source": [
    "gpl['primary_fuel'] = le.fit_transform(gpl['primary_fuel'])\n",
    "gpl['source'] = le.fit_transform(gpl['source'])\n",
    "gpl['url'] = le.fit_transform(gpl['url'])\n",
    "gpl['geolocation_source'] = le.fit_transform(gpl['geolocation_source'])"
   ]
  },
  {
   "cell_type": "code",
   "execution_count": null,
   "id": "f7e179b3",
   "metadata": {},
   "outputs": [],
   "source": []
  },
  {
   "cell_type": "code",
   "execution_count": 38,
   "id": "c05881b5",
   "metadata": {},
   "outputs": [
    {
     "data": {
      "image/png": "[encoded data removed]",
      "text/plain": [
       "<Figure size 800x500 with 2 Axes>"
      ]
     },
     "metadata": {},
     "output_type": "display_data"
    }
   ],
   "source": [
    "plt.figure(figsize=(8,5))\n",
    "sns.heatmap(gpl.corr(),annot= True)\n",
    "plt.show()"
   ]
  },
  {
   "cell_type": "code",
   "execution_count": null,
   "id": "24e07b7e",
   "metadata": {},
   "outputs": [],
   "source": []
  },
  {
   "cell_type": "markdown",
   "id": "f2ba3b2c",
   "metadata": {},
   "source": [
    "splitting the data"
   ]
  },
  {
   "cell_type": "code",
   "execution_count": 39,
   "id": "6a6b0130",
   "metadata": {},
   "outputs": [],
   "source": [
    "x = gpl.drop('primary_fuel',axis=1)\n",
    "y = gpl['primary_fuel']"
   ]
  },
  {
   "cell_type": "code",
   "execution_count": 40,
   "id": "6de353af",
   "metadata": {},
   "outputs": [
    {
     "data": {
      "text/plain": [
       "(907, 6)"
      ]
     },
     "execution_count": 40,
     "metadata": {},
     "output_type": "execute_result"
    }
   ],
   "source": [
    "x.shape"
   ]
  },
  {
   "cell_type": "code",
   "execution_count": 41,
   "id": "4a26f09c",
   "metadata": {},
   "outputs": [
    {
     "data": {
      "text/plain": [
       "(907,)"
      ]
     },
     "execution_count": 41,
     "metadata": {},
     "output_type": "execute_result"
    }
   ],
   "source": [
    "y.shape"
   ]
  },
  {
   "cell_type": "code",
   "execution_count": null,
   "id": "dd4ef209",
   "metadata": {},
   "outputs": [],
   "source": []
  },
  {
   "cell_type": "code",
   "execution_count": 42,
   "id": "45527799",
   "metadata": {},
   "outputs": [],
   "source": [
    "from sklearn.preprocessing import StandardScaler"
   ]
  },
  {
   "cell_type": "code",
   "execution_count": 43,
   "id": "799b2c77",
   "metadata": {},
   "outputs": [
    {
     "data": {
      "text/html": [
       "<div>\n",
       "<style scoped>\n",
       "    .dataframe tbody tr th:only-of-type {\n",
       "        vertical-align: middle;\n",
       "    }\n",
       "\n",
       "    .dataframe tbody tr th {\n",
       "        vertical-align: top;\n",
       "    }\n",
       "\n",
       "    .dataframe thead th {\n",
       "        text-align: right;\n",
       "    }\n",
       "</style>\n",
       "<table border=\"1\" class=\"dataframe\">\n",
       "  <thead>\n",
       "    <tr style=\"text-align: right;\">\n",
       "      <th></th>\n",
       "      <th>capacity_mw</th>\n",
       "      <th>latitude</th>\n",
       "      <th>longitude</th>\n",
       "      <th>source</th>\n",
       "      <th>url</th>\n",
       "      <th>geolocation_source</th>\n",
       "    </tr>\n",
       "  </thead>\n",
       "  <tbody>\n",
       "    <tr>\n",
       "      <th>0</th>\n",
       "      <td>-1.126096</td>\n",
       "      <td>1.149805</td>\n",
       "      <td>-0.892687</td>\n",
       "      <td>1.460215</td>\n",
       "      <td>0.476673</td>\n",
       "      <td>-1.083349</td>\n",
       "    </tr>\n",
       "    <tr>\n",
       "      <th>1</th>\n",
       "      <td>-0.132660</td>\n",
       "      <td>0.587311</td>\n",
       "      <td>-0.593158</td>\n",
       "      <td>2.917019</td>\n",
       "      <td>1.116401</td>\n",
       "      <td>0.394241</td>\n",
       "    </tr>\n",
       "    <tr>\n",
       "      <th>2</th>\n",
       "      <td>-0.503206</td>\n",
       "      <td>0.116179</td>\n",
       "      <td>-1.760007</td>\n",
       "      <td>-0.512075</td>\n",
       "      <td>1.571318</td>\n",
       "      <td>0.394241</td>\n",
       "    </tr>\n",
       "    <tr>\n",
       "      <th>3</th>\n",
       "      <td>0.025977</td>\n",
       "      <td>0.439989</td>\n",
       "      <td>2.808168</td>\n",
       "      <td>-0.489662</td>\n",
       "      <td>-0.518459</td>\n",
       "      <td>0.394241</td>\n",
       "    </tr>\n",
       "    <tr>\n",
       "      <th>4</th>\n",
       "      <td>2.174090</td>\n",
       "      <td>0.125479</td>\n",
       "      <td>1.047925</td>\n",
       "      <td>-0.489662</td>\n",
       "      <td>-0.518459</td>\n",
       "      <td>0.394241</td>\n",
       "    </tr>\n",
       "    <tr>\n",
       "      <th>...</th>\n",
       "      <td>...</td>\n",
       "      <td>...</td>\n",
       "      <td>...</td>\n",
       "      <td>...</td>\n",
       "      <td>...</td>\n",
       "      <td>...</td>\n",
       "    </tr>\n",
       "    <tr>\n",
       "      <th>902</th>\n",
       "      <td>2.031075</td>\n",
       "      <td>-0.806975</td>\n",
       "      <td>-0.002532</td>\n",
       "      <td>-0.489662</td>\n",
       "      <td>-0.518459</td>\n",
       "      <td>0.394241</td>\n",
       "    </tr>\n",
       "    <tr>\n",
       "      <th>903</th>\n",
       "      <td>-1.100127</td>\n",
       "      <td>-1.366853</td>\n",
       "      <td>0.168603</td>\n",
       "      <td>0.743019</td>\n",
       "      <td>-1.030242</td>\n",
       "      <td>-2.560940</td>\n",
       "    </tr>\n",
       "    <tr>\n",
       "      <th>904</th>\n",
       "      <td>-0.641727</td>\n",
       "      <td>-0.974707</td>\n",
       "      <td>-0.382577</td>\n",
       "      <td>-0.512075</td>\n",
       "      <td>2.353208</td>\n",
       "      <td>0.394241</td>\n",
       "    </tr>\n",
       "    <tr>\n",
       "      <th>905</th>\n",
       "      <td>-0.224749</td>\n",
       "      <td>0.518793</td>\n",
       "      <td>-0.781270</td>\n",
       "      <td>0.339596</td>\n",
       "      <td>-0.177271</td>\n",
       "      <td>0.394241</td>\n",
       "    </tr>\n",
       "    <tr>\n",
       "      <th>906</th>\n",
       "      <td>-0.763130</td>\n",
       "      <td>-1.853834</td>\n",
       "      <td>0.022940</td>\n",
       "      <td>-0.512075</td>\n",
       "      <td>2.139965</td>\n",
       "      <td>0.394241</td>\n",
       "    </tr>\n",
       "  </tbody>\n",
       "</table>\n",
       "<p>907 rows × 6 columns</p>\n",
       "</div>"
      ],
      "text/plain": [
       "     capacity_mw  latitude  longitude    source       url  geolocation_source\n",
       "0      -1.126096  1.149805  -0.892687  1.460215  0.476673           -1.083349\n",
       "1      -0.132660  0.587311  -0.593158  2.917019  1.116401            0.394241\n",
       "2      -0.503206  0.116179  -1.760007 -0.512075  1.571318            0.394241\n",
       "3       0.025977  0.439989   2.808168 -0.489662 -0.518459            0.394241\n",
       "4       2.174090  0.125479   1.047925 -0.489662 -0.518459            0.394241\n",
       "..           ...       ...        ...       ...       ...                 ...\n",
       "902     2.031075 -0.806975  -0.002532 -0.489662 -0.518459            0.394241\n",
       "903    -1.100127 -1.366853   0.168603  0.743019 -1.030242           -2.560940\n",
       "904    -0.641727 -0.974707  -0.382577 -0.512075  2.353208            0.394241\n",
       "905    -0.224749  0.518793  -0.781270  0.339596 -0.177271            0.394241\n",
       "906    -0.763130 -1.853834   0.022940 -0.512075  2.139965            0.394241\n",
       "\n",
       "[907 rows x 6 columns]"
      ]
     },
     "execution_count": 43,
     "metadata": {},
     "output_type": "execute_result"
    }
   ],
   "source": [
    "sc = StandardScaler()\n",
    "x = pd.DataFrame(sc.fit_transform(x), columns=x.columns)\n",
    "x"
   ]
  },
  {
   "cell_type": "code",
   "execution_count": null,
   "id": "3b2dcd23",
   "metadata": {},
   "outputs": [],
   "source": []
  },
  {
   "cell_type": "code",
   "execution_count": 44,
   "id": "72b599e1",
   "metadata": {},
   "outputs": [
    {
     "data": {
      "text/plain": [
       "1    258\n",
       "3    251\n",
       "6    127\n",
       "7    123\n",
       "2     69\n",
       "0     50\n",
       "5     20\n",
       "4      9\n",
       "Name: primary_fuel, dtype: int64"
      ]
     },
     "execution_count": 44,
     "metadata": {},
     "output_type": "execute_result"
    }
   ],
   "source": [
    "y.value_counts()"
   ]
  },
  {
   "cell_type": "code",
   "execution_count": 45,
   "id": "49383a73",
   "metadata": {},
   "outputs": [],
   "source": [
    "from imblearn.over_sampling import SMOTE"
   ]
  },
  {
   "cell_type": "code",
   "execution_count": 46,
   "id": "1776a3d1",
   "metadata": {},
   "outputs": [],
   "source": [
    "sm = SMOTE()\n",
    "x1,y1 = sm.fit_resample(x,y)"
   ]
  },
  {
   "cell_type": "code",
   "execution_count": 47,
   "id": "238c2015",
   "metadata": {},
   "outputs": [
    {
     "data": {
      "text/plain": [
       "6    258\n",
       "1    258\n",
       "7    258\n",
       "2    258\n",
       "3    258\n",
       "0    258\n",
       "5    258\n",
       "4    258\n",
       "Name: primary_fuel, dtype: int64"
      ]
     },
     "execution_count": 47,
     "metadata": {},
     "output_type": "execute_result"
    }
   ],
   "source": [
    "y1.value_counts()"
   ]
  },
  {
   "cell_type": "code",
   "execution_count": null,
   "id": "10b52269",
   "metadata": {},
   "outputs": [],
   "source": []
  },
  {
   "cell_type": "markdown",
   "id": "b7742233",
   "metadata": {},
   "source": [
    "# Building model"
   ]
  },
  {
   "cell_type": "code",
   "execution_count": null,
   "id": "7e93031e",
   "metadata": {},
   "outputs": [],
   "source": []
  },
  {
   "cell_type": "code",
   "execution_count": 48,
   "id": "c18918b8",
   "metadata": {},
   "outputs": [],
   "source": [
    "from sklearn.model_selection import train_test_split\n",
    "\n",
    "from sklearn.svm import SVC\n",
    "from sklearn.ensemble import RandomForestClassifier\n",
    "from sklearn.neighbors import KNeighborsClassifier\n",
    "from sklearn.naive_bayes import GaussianNB\n",
    "from sklearn.tree import DecisionTreeClassifier\n",
    "from sklearn.metrics import accuracy_score, classification_report, confusion_matrix"
   ]
  },
  {
   "cell_type": "code",
   "execution_count": 49,
   "id": "52040251",
   "metadata": {},
   "outputs": [],
   "source": [
    "x_train,x_test,y_train,y_test = train_test_split(x1,y1, test_size=.30, random_state=0)"
   ]
  },
  {
   "cell_type": "code",
   "execution_count": 50,
   "id": "81b61214",
   "metadata": {},
   "outputs": [
    {
     "name": "stdout",
     "output_type": "stream",
     "text": [
      "0.7532258064516129\n",
      "[[74  2  0  0  0  1  0  0]\n",
      " [ 4 38  7  3 10  4  0  0]\n",
      " [ 2 14 41  6  5 11  0  1]\n",
      " [10  3  6 34  3 27  0  0]\n",
      " [ 0  3 13  1 70  3  0  0]\n",
      " [ 1  1  5  2  0 66  0  3]\n",
      " [ 0  2  0  0  0  0 71  0]\n",
      " [ 0  0  0  0  0  0  0 73]]\n",
      "              precision    recall  f1-score   support\n",
      "\n",
      "           0       0.81      0.96      0.88        77\n",
      "           1       0.60      0.58      0.59        66\n",
      "           2       0.57      0.51      0.54        80\n",
      "           3       0.74      0.41      0.53        83\n",
      "           4       0.80      0.78      0.79        90\n",
      "           5       0.59      0.85      0.69        78\n",
      "           6       1.00      0.97      0.99        73\n",
      "           7       0.95      1.00      0.97        73\n",
      "\n",
      "    accuracy                           0.75       620\n",
      "   macro avg       0.76      0.76      0.75       620\n",
      "weighted avg       0.76      0.75      0.74       620\n",
      "\n"
     ]
    }
   ],
   "source": [
    "svc = SVC()\n",
    "svc.fit(x_train,y_train)\n",
    "predsvc = svc.predict(x_test)\n",
    "print(accuracy_score(y_test,predsvc))\n",
    "print(confusion_matrix(y_test,predsvc))\n",
    "print(classification_report(y_test,predsvc))"
   ]
  },
  {
   "cell_type": "code",
   "execution_count": null,
   "id": "1e9cbe8b",
   "metadata": {},
   "outputs": [],
   "source": []
  },
  {
   "cell_type": "code",
   "execution_count": 51,
   "id": "6df2a189",
   "metadata": {},
   "outputs": [
    {
     "name": "stdout",
     "output_type": "stream",
     "text": [
      "0.9064516129032258\n",
      "[[75  2  0  0  0  0  0  0]\n",
      " [ 2 51  6  2  3  2  0  0]\n",
      " [ 1  6 67  1  3  2  0  0]\n",
      " [ 0  3  6 66  3  5  0  0]\n",
      " [ 0  6  2  2 80  0  0  0]\n",
      " [ 0  0  1  0  0 77  0  0]\n",
      " [ 0  0  0  0  0  0 73  0]\n",
      " [ 0  0  0  0  0  0  0 73]]\n",
      "              precision    recall  f1-score   support\n",
      "\n",
      "           0       0.96      0.97      0.97        77\n",
      "           1       0.75      0.77      0.76        66\n",
      "           2       0.82      0.84      0.83        80\n",
      "           3       0.93      0.80      0.86        83\n",
      "           4       0.90      0.89      0.89        90\n",
      "           5       0.90      0.99      0.94        78\n",
      "           6       1.00      1.00      1.00        73\n",
      "           7       1.00      1.00      1.00        73\n",
      "\n",
      "    accuracy                           0.91       620\n",
      "   macro avg       0.91      0.91      0.91       620\n",
      "weighted avg       0.91      0.91      0.91       620\n",
      "\n"
     ]
    }
   ],
   "source": [
    "rfc = RandomForestClassifier()\n",
    "rfc.fit(x_train,y_train)\n",
    "predrfc = rfc.predict(x_test)\n",
    "print(accuracy_score(y_test, predrfc))\n",
    "print(confusion_matrix(y_test,predrfc))\n",
    "print(classification_report(y_test,predrfc))"
   ]
  },
  {
   "cell_type": "code",
   "execution_count": null,
   "id": "e21bd47b",
   "metadata": {},
   "outputs": [],
   "source": []
  },
  {
   "cell_type": "code",
   "execution_count": 52,
   "id": "dde41faa",
   "metadata": {},
   "outputs": [
    {
     "name": "stdout",
     "output_type": "stream",
     "text": [
      "0.8435483870967742\n",
      "[[75  1  0  1  0  0  0  0]\n",
      " [ 5 41  8  2  8  2  0  0]\n",
      " [ 2  5 57  1  8  5  1  1]\n",
      " [ 3 11  5 51  3 10  0  0]\n",
      " [ 0  5  3  2 80  0  0  0]\n",
      " [ 1  0  3  1  0 73  0  0]\n",
      " [ 0  0  0  0  0  0 73  0]\n",
      " [ 0  0  0  0  0  0  0 73]]\n",
      "              precision    recall  f1-score   support\n",
      "\n",
      "           0       0.87      0.97      0.92        77\n",
      "           1       0.65      0.62      0.64        66\n",
      "           2       0.75      0.71      0.73        80\n",
      "           3       0.88      0.61      0.72        83\n",
      "           4       0.81      0.89      0.85        90\n",
      "           5       0.81      0.94      0.87        78\n",
      "           6       0.99      1.00      0.99        73\n",
      "           7       0.99      1.00      0.99        73\n",
      "\n",
      "    accuracy                           0.84       620\n",
      "   macro avg       0.84      0.84      0.84       620\n",
      "weighted avg       0.84      0.84      0.84       620\n",
      "\n"
     ]
    }
   ],
   "source": [
    "knn = KNeighborsClassifier()\n",
    "knn.fit(x_train,y_train)\n",
    "predknn = knn.predict(x_test)\n",
    "print(accuracy_score(y_test,predknn))\n",
    "print(confusion_matrix(y_test,predknn))\n",
    "print(classification_report(y_test,predknn))"
   ]
  },
  {
   "cell_type": "code",
   "execution_count": null,
   "id": "bbb820bc",
   "metadata": {},
   "outputs": [],
   "source": []
  },
  {
   "cell_type": "code",
   "execution_count": 53,
   "id": "59f16290",
   "metadata": {},
   "outputs": [
    {
     "name": "stdout",
     "output_type": "stream",
     "text": [
      "0.5548387096774193\n",
      "[[71  1  0  0  0  5  0  0]\n",
      " [ 0  6  0 48  0 12  0  0]\n",
      " [ 2  1  1 68  0  8  0  0]\n",
      " [ 0  0  0 83  0  0  0  0]\n",
      " [ 0  0  0 78 12  0  0  0]\n",
      " [14  0  0 36  1 27  0  0]\n",
      " [ 0  0  0  0  0  2 71  0]\n",
      " [ 0  0  0  0  0  0  0 73]]\n",
      "              precision    recall  f1-score   support\n",
      "\n",
      "           0       0.82      0.92      0.87        77\n",
      "           1       0.75      0.09      0.16        66\n",
      "           2       1.00      0.01      0.02        80\n",
      "           3       0.27      1.00      0.42        83\n",
      "           4       0.92      0.13      0.23        90\n",
      "           5       0.50      0.35      0.41        78\n",
      "           6       1.00      0.97      0.99        73\n",
      "           7       1.00      1.00      1.00        73\n",
      "\n",
      "    accuracy                           0.55       620\n",
      "   macro avg       0.78      0.56      0.51       620\n",
      "weighted avg       0.78      0.55      0.50       620\n",
      "\n"
     ]
    }
   ],
   "source": [
    "gnb = GaussianNB()\n",
    "gnb.fit(x_train,y_train)\n",
    "predgnb = gnb.predict(x_test)\n",
    "print(accuracy_score(y_test,predgnb))\n",
    "print(confusion_matrix(y_test,predgnb))\n",
    "print(classification_report(y_test,predgnb))"
   ]
  },
  {
   "cell_type": "code",
   "execution_count": null,
   "id": "542ef474",
   "metadata": {},
   "outputs": [],
   "source": []
  },
  {
   "cell_type": "code",
   "execution_count": 54,
   "id": "6df92f2b",
   "metadata": {},
   "outputs": [
    {
     "name": "stdout",
     "output_type": "stream",
     "text": [
      "0.8419354838709677\n",
      "[[70  7  0  0  0  0  0  0]\n",
      " [ 1 50  4  6  4  1  0  0]\n",
      " [ 1  7 61  3  6  2  0  0]\n",
      " [ 0 11  4 56  3  9  0  0]\n",
      " [ 0  7  5  3 70  5  0  0]\n",
      " [ 0  4  2  2  1 69  0  0]\n",
      " [ 0  0  0  0  0  0 73  0]\n",
      " [ 0  0  0  0  0  0  0 73]]\n",
      "              precision    recall  f1-score   support\n",
      "\n",
      "           0       0.97      0.91      0.94        77\n",
      "           1       0.58      0.76      0.66        66\n",
      "           2       0.80      0.76      0.78        80\n",
      "           3       0.80      0.67      0.73        83\n",
      "           4       0.83      0.78      0.80        90\n",
      "           5       0.80      0.88      0.84        78\n",
      "           6       1.00      1.00      1.00        73\n",
      "           7       1.00      1.00      1.00        73\n",
      "\n",
      "    accuracy                           0.84       620\n",
      "   macro avg       0.85      0.85      0.84       620\n",
      "weighted avg       0.85      0.84      0.84       620\n",
      "\n"
     ]
    }
   ],
   "source": [
    "dtc = DecisionTreeClassifier()\n",
    "dtc.fit(x_train,y_train)\n",
    "predtc = dtc.predict(x_test)\n",
    "print(accuracy_score(y_test,predtc))\n",
    "print(confusion_matrix(y_test,predtc))\n",
    "print(classification_report(y_test,predtc))"
   ]
  },
  {
   "cell_type": "code",
   "execution_count": null,
   "id": "aaadfdd9",
   "metadata": {},
   "outputs": [],
   "source": []
  },
  {
   "cell_type": "markdown",
   "id": "f95a5687",
   "metadata": {},
   "source": [
    "Cross Validation Score"
   ]
  },
  {
   "cell_type": "code",
   "execution_count": null,
   "id": "96f403b6",
   "metadata": {},
   "outputs": [],
   "source": []
  },
  {
   "cell_type": "code",
   "execution_count": 55,
   "id": "d0714444",
   "metadata": {},
   "outputs": [],
   "source": [
    "from sklearn.model_selection import cross_val_score"
   ]
  },
  {
   "cell_type": "code",
   "execution_count": 56,
   "id": "5f075eef",
   "metadata": {},
   "outputs": [
    {
     "name": "stdout",
     "output_type": "stream",
     "text": [
      "[0.75274725 0.77472527 0.79005525 0.75690608 0.77348066]\n",
      "0.7695829032845607\n",
      "difference in accuracy -0.016357096832947837\n"
     ]
    }
   ],
   "source": [
    "score = cross_val_score(svc,x,y)\n",
    "print(score)\n",
    "print(score.mean())\n",
    "print('difference in accuracy',accuracy_score(y_test,predsvc)-score.mean())"
   ]
  },
  {
   "cell_type": "code",
   "execution_count": null,
   "id": "e3a780bb",
   "metadata": {},
   "outputs": [],
   "source": []
  },
  {
   "cell_type": "code",
   "execution_count": 57,
   "id": "64ae000f",
   "metadata": {},
   "outputs": [
    {
     "name": "stdout",
     "output_type": "stream",
     "text": [
      "[0.83516484 0.82417582 0.86740331 0.80110497 0.84530387]\n",
      "0.8346305628073584\n",
      "difference in accuracy 0.07182105009586748\n"
     ]
    }
   ],
   "source": [
    "score = cross_val_score(rfc,x,y)\n",
    "print(score)\n",
    "print(score.mean())\n",
    "print('difference in accuracy',accuracy_score(y_test,predrfc)-score.mean())"
   ]
  },
  {
   "cell_type": "code",
   "execution_count": null,
   "id": "e33654b0",
   "metadata": {},
   "outputs": [],
   "source": []
  },
  {
   "cell_type": "code",
   "execution_count": 58,
   "id": "39a3c4ac",
   "metadata": {},
   "outputs": [
    {
     "name": "stdout",
     "output_type": "stream",
     "text": [
      "[0.74175824 0.79120879 0.81767956 0.7679558  0.80662983]\n",
      "0.7850464452674397\n",
      "difference in accuracy 0.058501941829334436\n"
     ]
    }
   ],
   "source": [
    "score = cross_val_score(knn,x,y)\n",
    "print(score)\n",
    "print(score.mean())\n",
    "print('difference in accuracy',accuracy_score(y_test,predknn)-score.mean())"
   ]
  },
  {
   "cell_type": "code",
   "execution_count": null,
   "id": "6581ebe6",
   "metadata": {},
   "outputs": [],
   "source": []
  },
  {
   "cell_type": "code",
   "execution_count": 59,
   "id": "2ca1a76c",
   "metadata": {},
   "outputs": [
    {
     "name": "stdout",
     "output_type": "stream",
     "text": [
      "[0.65934066 0.64285714 0.65745856 0.62983425 0.62983425]\n",
      "0.6438649748042014\n",
      "difference in accuracy -0.08902626512678202\n"
     ]
    }
   ],
   "source": [
    "score = cross_val_score(gnb,x,y)\n",
    "print(score)\n",
    "print(score.mean())\n",
    "print('difference in accuracy',accuracy_score(y_test,predgnb)-score.mean())"
   ]
  },
  {
   "cell_type": "code",
   "execution_count": null,
   "id": "33d43afa",
   "metadata": {},
   "outputs": [],
   "source": []
  },
  {
   "cell_type": "code",
   "execution_count": 60,
   "id": "5b8f60fa",
   "metadata": {},
   "outputs": [
    {
     "name": "stdout",
     "output_type": "stream",
     "text": [
      "[0.77472527 0.79120879 0.80110497 0.76243094 0.77900552]\n",
      "0.7816951004796309\n",
      "difference in accuracy 0.06024038339133686\n"
     ]
    }
   ],
   "source": [
    "score = cross_val_score(dtc,x,y)\n",
    "print(score)\n",
    "print(score.mean())\n",
    "print('difference in accuracy',accuracy_score(y_test,predtc)-score.mean())"
   ]
  },
  {
   "cell_type": "code",
   "execution_count": null,
   "id": "1f769b26",
   "metadata": {},
   "outputs": [],
   "source": []
  },
  {
   "cell_type": "markdown",
   "id": "ab431dfe",
   "metadata": {},
   "source": [
    "Hyper parameter Tuning"
   ]
  },
  {
   "cell_type": "markdown",
   "id": "767fc73a",
   "metadata": {},
   "source": [
    "RandomForestClassifier is not giving least difference in accuracy which is affordable and it is the best performing accuracy\n",
    "\n",
    "RandomForestClassifier is best model"
   ]
  },
  {
   "cell_type": "code",
   "execution_count": 61,
   "id": "f5775a03",
   "metadata": {},
   "outputs": [],
   "source": [
    "param_grid = {\n",
    "    'n_estimators': [100, 200, 300],\n",
    "    'max_depth': [None, 10, 20, 30],\n",
    "    'min_samples_split': [2, 5, 10],\n",
    "    'min_samples_leaf': [1, 2, 4]}"
   ]
  },
  {
   "cell_type": "code",
   "execution_count": null,
   "id": "030fe28e",
   "metadata": {},
   "outputs": [],
   "source": []
  },
  {
   "cell_type": "code",
   "execution_count": 62,
   "id": "ac47e7d9",
   "metadata": {},
   "outputs": [],
   "source": [
    "from sklearn.model_selection import GridSearchCV"
   ]
  },
  {
   "cell_type": "code",
   "execution_count": 63,
   "id": "bae84cce",
   "metadata": {},
   "outputs": [
    {
     "data": {
      "text/html": [
       "<style>#sk-container-id-2 {color: black;background-color: white;}#sk-container-id-2 pre{padding: 0;}#sk-container-id-2 div.sk-toggleable {background-color: white;}#sk-container-id-2 label.sk-toggleable__label {cursor: pointer;display: block;width: 100%;margin-bottom: 0;padding: 0.3em;box-sizing: border-box;text-align: center;}#sk-container-id-2 label.sk-toggleable__label-arrow:before {content: \"▸\";float: left;margin-right: 0.25em;color: #696969;}#sk-container-id-2 label.sk-toggleable__label-arrow:hover:before {color: black;}#sk-container-id-2 div.sk-estimator:hover label.sk-toggleable__label-arrow:before {color: black;}#sk-container-id-2 div.sk-toggleable__content {max-height: 0;max-width: 0;overflow: hidden;text-align: left;background-color: #f0f8ff;}#sk-container-id-2 div.sk-toggleable__content pre {margin: 0.2em;color: black;border-radius: 0.25em;background-color: #f0f8ff;}#sk-container-id-2 input.sk-toggleable__control:checked~div.sk-toggleable__content {max-height: 200px;max-width: 100%;overflow: auto;}#sk-container-id-2 input.sk-toggleable__control:checked~label.sk-toggleable__label-arrow:before {content: \"▾\";}#sk-container-id-2 div.sk-estimator input.sk-toggleable__control:checked~label.sk-toggleable__label {background-color: #d4ebff;}#sk-container-id-2 div.sk-label input.sk-toggleable__control:checked~label.sk-toggleable__label {background-color: #d4ebff;}#sk-container-id-2 input.sk-hidden--visually {border: 0;clip: rect(1px 1px 1px 1px);clip: rect(1px, 1px, 1px, 1px);height: 1px;margin: -1px;overflow: hidden;padding: 0;position: absolute;width: 1px;}#sk-container-id-2 div.sk-estimator {font-family: monospace;background-color: #f0f8ff;border: 1px dotted black;border-radius: 0.25em;box-sizing: border-box;margin-bottom: 0.5em;}#sk-container-id-2 div.sk-estimator:hover {background-color: #d4ebff;}#sk-container-id-2 div.sk-parallel-item::after {content: \"\";width: 100%;border-bottom: 1px solid gray;flex-grow: 1;}#sk-container-id-2 div.sk-label:hover label.sk-toggleable__label {background-color: #d4ebff;}#sk-container-id-2 div.sk-serial::before {content: \"\";position: absolute;border-left: 1px solid gray;box-sizing: border-box;top: 0;bottom: 0;left: 50%;z-index: 0;}#sk-container-id-2 div.sk-serial {display: flex;flex-direction: column;align-items: center;background-color: white;padding-right: 0.2em;padding-left: 0.2em;position: relative;}#sk-container-id-2 div.sk-item {position: relative;z-index: 1;}#sk-container-id-2 div.sk-parallel {display: flex;align-items: stretch;justify-content: center;background-color: white;position: relative;}#sk-container-id-2 div.sk-item::before, #sk-container-id-2 div.sk-parallel-item::before {content: \"\";position: absolute;border-left: 1px solid gray;box-sizing: border-box;top: 0;bottom: 0;left: 50%;z-index: -1;}#sk-container-id-2 div.sk-parallel-item {display: flex;flex-direction: column;z-index: 1;position: relative;background-color: white;}#sk-container-id-2 div.sk-parallel-item:first-child::after {align-self: flex-end;width: 50%;}#sk-container-id-2 div.sk-parallel-item:last-child::after {align-self: flex-start;width: 50%;}#sk-container-id-2 div.sk-parallel-item:only-child::after {width: 0;}#sk-container-id-2 div.sk-dashed-wrapped {border: 1px dashed gray;margin: 0 0.4em 0.5em 0.4em;box-sizing: border-box;padding-bottom: 0.4em;background-color: white;}#sk-container-id-2 div.sk-label label {font-family: monospace;font-weight: bold;display: inline-block;line-height: 1.2em;}#sk-container-id-2 div.sk-label-container {text-align: center;}#sk-container-id-2 div.sk-container {/* jupyter's `normalize.less` sets `[hidden] { display: none; }` but bootstrap.min.css set `[hidden] { display: none !important; }` so we also need the `!important` here to be able to override the default hidden behavior on the sphinx rendered scikit-learn.org. See: https://github.com/scikit-learn/scikit-learn/issues/21755 */display: inline-block !important;position: relative;}#sk-container-id-2 div.sk-text-repr-fallback {display: none;}</style><div id=\"sk-container-id-2\" class=\"sk-top-container\"><div class=\"sk-text-repr-fallback\"><pre>GridSearchCV(cv=5, estimator=RandomForestClassifier(), n_jobs=-1,\n",
       "             param_grid={&#x27;max_depth&#x27;: [None, 10, 20, 30],\n",
       "                         &#x27;min_samples_leaf&#x27;: [1, 2, 4],\n",
       "                         &#x27;min_samples_split&#x27;: [2, 5, 10],\n",
       "                         &#x27;n_estimators&#x27;: [100, 200, 300]},\n",
       "             scoring=&#x27;accuracy&#x27;)</pre><b>In a Jupyter environment, please rerun this cell to show the HTML representation or trust the notebook. <br />On GitHub, the HTML representation is unable to render, please try loading this page with nbviewer.org.</b></div><div class=\"sk-container\" hidden><div class=\"sk-item sk-dashed-wrapped\"><div class=\"sk-label-container\"><div class=\"sk-label sk-toggleable\"><input class=\"sk-toggleable__control sk-hidden--visually\" id=\"sk-estimator-id-2\" type=\"checkbox\" ><label for=\"sk-estimator-id-2\" class=\"sk-toggleable__label sk-toggleable__label-arrow\">GridSearchCV</label><div class=\"sk-toggleable__content\"><pre>GridSearchCV(cv=5, estimator=RandomForestClassifier(), n_jobs=-1,\n",
       "             param_grid={&#x27;max_depth&#x27;: [None, 10, 20, 30],\n",
       "                         &#x27;min_samples_leaf&#x27;: [1, 2, 4],\n",
       "                         &#x27;min_samples_split&#x27;: [2, 5, 10],\n",
       "                         &#x27;n_estimators&#x27;: [100, 200, 300]},\n",
       "             scoring=&#x27;accuracy&#x27;)</pre></div></div></div><div class=\"sk-parallel\"><div class=\"sk-parallel-item\"><div class=\"sk-item\"><div class=\"sk-label-container\"><div class=\"sk-label sk-toggleable\"><input class=\"sk-toggleable__control sk-hidden--visually\" id=\"sk-estimator-id-3\" type=\"checkbox\" ><label for=\"sk-estimator-id-3\" class=\"sk-toggleable__label sk-toggleable__label-arrow\">estimator: RandomForestClassifier</label><div class=\"sk-toggleable__content\"><pre>RandomForestClassifier()</pre></div></div></div><div class=\"sk-serial\"><div class=\"sk-item\"><div class=\"sk-estimator sk-toggleable\"><input class=\"sk-toggleable__control sk-hidden--visually\" id=\"sk-estimator-id-4\" type=\"checkbox\" ><label for=\"sk-estimator-id-4\" class=\"sk-toggleable__label sk-toggleable__label-arrow\">RandomForestClassifier</label><div class=\"sk-toggleable__content\"><pre>RandomForestClassifier()</pre></div></div></div></div></div></div></div></div></div></div>"
      ],
      "text/plain": [
       "GridSearchCV(cv=5, estimator=RandomForestClassifier(), n_jobs=-1,\n",
       "             param_grid={'max_depth': [None, 10, 20, 30],\n",
       "                         'min_samples_leaf': [1, 2, 4],\n",
       "                         'min_samples_split': [2, 5, 10],\n",
       "                         'n_estimators': [100, 200, 300]},\n",
       "             scoring='accuracy')"
      ]
     },
     "execution_count": 63,
     "metadata": {},
     "output_type": "execute_result"
    }
   ],
   "source": [
    "grid_search = GridSearchCV(estimator=rfc, param_grid=param_grid, scoring='accuracy', cv=5, n_jobs=-1)\n",
    "\n",
    "grid_search.fit(x_train, y_train)"
   ]
  },
  {
   "cell_type": "code",
   "execution_count": null,
   "id": "63ee3d4c",
   "metadata": {},
   "outputs": [],
   "source": []
  },
  {
   "cell_type": "code",
   "execution_count": 64,
   "id": "cc1613bf",
   "metadata": {},
   "outputs": [
    {
     "name": "stdout",
     "output_type": "stream",
     "text": [
      "90.48387096774194\n"
     ]
    }
   ],
   "source": [
    "predrfc = grid_search.predict(x_test)\n",
    "acc = accuracy_score(y_test,predrfc)\n",
    "print(acc*100)"
   ]
  },
  {
   "cell_type": "code",
   "execution_count": null,
   "id": "0627b926",
   "metadata": {},
   "outputs": [],
   "source": []
  },
  {
   "cell_type": "code",
   "execution_count": 65,
   "id": "4d7416fe",
   "metadata": {},
   "outputs": [
    {
     "data": {
      "text/plain": [
       "{'max_depth': 20,\n",
       " 'min_samples_leaf': 1,\n",
       " 'min_samples_split': 2,\n",
       " 'n_estimators': 100}"
      ]
     },
     "execution_count": 65,
     "metadata": {},
     "output_type": "execute_result"
    }
   ],
   "source": [
    "grid_search.best_params_"
   ]
  },
  {
   "cell_type": "code",
   "execution_count": 74,
   "id": "784ec40b",
   "metadata": {},
   "outputs": [
    {
     "data": {
      "text/html": [
       "<style>#sk-container-id-5 {color: black;background-color: white;}#sk-container-id-5 pre{padding: 0;}#sk-container-id-5 div.sk-toggleable {background-color: white;}#sk-container-id-5 label.sk-toggleable__label {cursor: pointer;display: block;width: 100%;margin-bottom: 0;padding: 0.3em;box-sizing: border-box;text-align: center;}#sk-container-id-5 label.sk-toggleable__label-arrow:before {content: \"▸\";float: left;margin-right: 0.25em;color: #696969;}#sk-container-id-5 label.sk-toggleable__label-arrow:hover:before {color: black;}#sk-container-id-5 div.sk-estimator:hover label.sk-toggleable__label-arrow:before {color: black;}#sk-container-id-5 div.sk-toggleable__content {max-height: 0;max-width: 0;overflow: hidden;text-align: left;background-color: #f0f8ff;}#sk-container-id-5 div.sk-toggleable__content pre {margin: 0.2em;color: black;border-radius: 0.25em;background-color: #f0f8ff;}#sk-container-id-5 input.sk-toggleable__control:checked~div.sk-toggleable__content {max-height: 200px;max-width: 100%;overflow: auto;}#sk-container-id-5 input.sk-toggleable__control:checked~label.sk-toggleable__label-arrow:before {content: \"▾\";}#sk-container-id-5 div.sk-estimator input.sk-toggleable__control:checked~label.sk-toggleable__label {background-color: #d4ebff;}#sk-container-id-5 div.sk-label input.sk-toggleable__control:checked~label.sk-toggleable__label {background-color: #d4ebff;}#sk-container-id-5 input.sk-hidden--visually {border: 0;clip: rect(1px 1px 1px 1px);clip: rect(1px, 1px, 1px, 1px);height: 1px;margin: -1px;overflow: hidden;padding: 0;position: absolute;width: 1px;}#sk-container-id-5 div.sk-estimator {font-family: monospace;background-color: #f0f8ff;border: 1px dotted black;border-radius: 0.25em;box-sizing: border-box;margin-bottom: 0.5em;}#sk-container-id-5 div.sk-estimator:hover {background-color: #d4ebff;}#sk-container-id-5 div.sk-parallel-item::after {content: \"\";width: 100%;border-bottom: 1px solid gray;flex-grow: 1;}#sk-container-id-5 div.sk-label:hover label.sk-toggleable__label {background-color: #d4ebff;}#sk-container-id-5 div.sk-serial::before {content: \"\";position: absolute;border-left: 1px solid gray;box-sizing: border-box;top: 0;bottom: 0;left: 50%;z-index: 0;}#sk-container-id-5 div.sk-serial {display: flex;flex-direction: column;align-items: center;background-color: white;padding-right: 0.2em;padding-left: 0.2em;position: relative;}#sk-container-id-5 div.sk-item {position: relative;z-index: 1;}#sk-container-id-5 div.sk-parallel {display: flex;align-items: stretch;justify-content: center;background-color: white;position: relative;}#sk-container-id-5 div.sk-item::before, #sk-container-id-5 div.sk-parallel-item::before {content: \"\";position: absolute;border-left: 1px solid gray;box-sizing: border-box;top: 0;bottom: 0;left: 50%;z-index: -1;}#sk-container-id-5 div.sk-parallel-item {display: flex;flex-direction: column;z-index: 1;position: relative;background-color: white;}#sk-container-id-5 div.sk-parallel-item:first-child::after {align-self: flex-end;width: 50%;}#sk-container-id-5 div.sk-parallel-item:last-child::after {align-self: flex-start;width: 50%;}#sk-container-id-5 div.sk-parallel-item:only-child::after {width: 0;}#sk-container-id-5 div.sk-dashed-wrapped {border: 1px dashed gray;margin: 0 0.4em 0.5em 0.4em;box-sizing: border-box;padding-bottom: 0.4em;background-color: white;}#sk-container-id-5 div.sk-label label {font-family: monospace;font-weight: bold;display: inline-block;line-height: 1.2em;}#sk-container-id-5 div.sk-label-container {text-align: center;}#sk-container-id-5 div.sk-container {/* jupyter's `normalize.less` sets `[hidden] { display: none; }` but bootstrap.min.css set `[hidden] { display: none !important; }` so we also need the `!important` here to be able to override the default hidden behavior on the sphinx rendered scikit-learn.org. See: https://github.com/scikit-learn/scikit-learn/issues/21755 */display: inline-block !important;position: relative;}#sk-container-id-5 div.sk-text-repr-fallback {display: none;}</style><div id=\"sk-container-id-5\" class=\"sk-top-container\"><div class=\"sk-text-repr-fallback\"><pre>RandomForestClassifier(max_depth=20)</pre><b>In a Jupyter environment, please rerun this cell to show the HTML representation or trust the notebook. <br />On GitHub, the HTML representation is unable to render, please try loading this page with nbviewer.org.</b></div><div class=\"sk-container\" hidden><div class=\"sk-item\"><div class=\"sk-estimator sk-toggleable\"><input class=\"sk-toggleable__control sk-hidden--visually\" id=\"sk-estimator-id-9\" type=\"checkbox\" checked><label for=\"sk-estimator-id-9\" class=\"sk-toggleable__label sk-toggleable__label-arrow\">RandomForestClassifier</label><div class=\"sk-toggleable__content\"><pre>RandomForestClassifier(max_depth=20)</pre></div></div></div></div></div>"
      ],
      "text/plain": [
       "RandomForestClassifier(max_depth=20)"
      ]
     },
     "execution_count": 74,
     "metadata": {},
     "output_type": "execute_result"
    }
   ],
   "source": [
    "best_model = grid_search.best_estimator_\n",
    "best_model"
   ]
  },
  {
   "cell_type": "code",
   "execution_count": null,
   "id": "6b1fbb76",
   "metadata": {},
   "outputs": [],
   "source": []
  },
  {
   "cell_type": "markdown",
   "id": "6f81ad3b",
   "metadata": {},
   "source": [
    "# Saving the Model¶\n",
    "using joblib"
   ]
  },
  {
   "cell_type": "code",
   "execution_count": 67,
   "id": "b43067f4",
   "metadata": {},
   "outputs": [],
   "source": [
    "import joblib"
   ]
  },
  {
   "cell_type": "code",
   "execution_count": 68,
   "id": "a8a09363",
   "metadata": {},
   "outputs": [
    {
     "data": {
      "text/plain": [
       "['power_plant_prediction.pkl']"
      ]
     },
     "execution_count": 68,
     "metadata": {},
     "output_type": "execute_result"
    }
   ],
   "source": [
    "joblib.dump(grid_search,'power_plant_prediction.pkl')"
   ]
  },
  {
   "cell_type": "code",
   "execution_count": 69,
   "id": "32d43285",
   "metadata": {},
   "outputs": [
    {
     "data": {
      "text/html": [
       "<style>#sk-container-id-4 {color: black;background-color: white;}#sk-container-id-4 pre{padding: 0;}#sk-container-id-4 div.sk-toggleable {background-color: white;}#sk-container-id-4 label.sk-toggleable__label {cursor: pointer;display: block;width: 100%;margin-bottom: 0;padding: 0.3em;box-sizing: border-box;text-align: center;}#sk-container-id-4 label.sk-toggleable__label-arrow:before {content: \"▸\";float: left;margin-right: 0.25em;color: #696969;}#sk-container-id-4 label.sk-toggleable__label-arrow:hover:before {color: black;}#sk-container-id-4 div.sk-estimator:hover label.sk-toggleable__label-arrow:before {color: black;}#sk-container-id-4 div.sk-toggleable__content {max-height: 0;max-width: 0;overflow: hidden;text-align: left;background-color: #f0f8ff;}#sk-container-id-4 div.sk-toggleable__content pre {margin: 0.2em;color: black;border-radius: 0.25em;background-color: #f0f8ff;}#sk-container-id-4 input.sk-toggleable__control:checked~div.sk-toggleable__content {max-height: 200px;max-width: 100%;overflow: auto;}#sk-container-id-4 input.sk-toggleable__control:checked~label.sk-toggleable__label-arrow:before {content: \"▾\";}#sk-container-id-4 div.sk-estimator input.sk-toggleable__control:checked~label.sk-toggleable__label {background-color: #d4ebff;}#sk-container-id-4 div.sk-label input.sk-toggleable__control:checked~label.sk-toggleable__label {background-color: #d4ebff;}#sk-container-id-4 input.sk-hidden--visually {border: 0;clip: rect(1px 1px 1px 1px);clip: rect(1px, 1px, 1px, 1px);height: 1px;margin: -1px;overflow: hidden;padding: 0;position: absolute;width: 1px;}#sk-container-id-4 div.sk-estimator {font-family: monospace;background-color: #f0f8ff;border: 1px dotted black;border-radius: 0.25em;box-sizing: border-box;margin-bottom: 0.5em;}#sk-container-id-4 div.sk-estimator:hover {background-color: #d4ebff;}#sk-container-id-4 div.sk-parallel-item::after {content: \"\";width: 100%;border-bottom: 1px solid gray;flex-grow: 1;}#sk-container-id-4 div.sk-label:hover label.sk-toggleable__label {background-color: #d4ebff;}#sk-container-id-4 div.sk-serial::before {content: \"\";position: absolute;border-left: 1px solid gray;box-sizing: border-box;top: 0;bottom: 0;left: 50%;z-index: 0;}#sk-container-id-4 div.sk-serial {display: flex;flex-direction: column;align-items: center;background-color: white;padding-right: 0.2em;padding-left: 0.2em;position: relative;}#sk-container-id-4 div.sk-item {position: relative;z-index: 1;}#sk-container-id-4 div.sk-parallel {display: flex;align-items: stretch;justify-content: center;background-color: white;position: relative;}#sk-container-id-4 div.sk-item::before, #sk-container-id-4 div.sk-parallel-item::before {content: \"\";position: absolute;border-left: 1px solid gray;box-sizing: border-box;top: 0;bottom: 0;left: 50%;z-index: -1;}#sk-container-id-4 div.sk-parallel-item {display: flex;flex-direction: column;z-index: 1;position: relative;background-color: white;}#sk-container-id-4 div.sk-parallel-item:first-child::after {align-self: flex-end;width: 50%;}#sk-container-id-4 div.sk-parallel-item:last-child::after {align-self: flex-start;width: 50%;}#sk-container-id-4 div.sk-parallel-item:only-child::after {width: 0;}#sk-container-id-4 div.sk-dashed-wrapped {border: 1px dashed gray;margin: 0 0.4em 0.5em 0.4em;box-sizing: border-box;padding-bottom: 0.4em;background-color: white;}#sk-container-id-4 div.sk-label label {font-family: monospace;font-weight: bold;display: inline-block;line-height: 1.2em;}#sk-container-id-4 div.sk-label-container {text-align: center;}#sk-container-id-4 div.sk-container {/* jupyter's `normalize.less` sets `[hidden] { display: none; }` but bootstrap.min.css set `[hidden] { display: none !important; }` so we also need the `!important` here to be able to override the default hidden behavior on the sphinx rendered scikit-learn.org. See: https://github.com/scikit-learn/scikit-learn/issues/21755 */display: inline-block !important;position: relative;}#sk-container-id-4 div.sk-text-repr-fallback {display: none;}</style><div id=\"sk-container-id-4\" class=\"sk-top-container\"><div class=\"sk-text-repr-fallback\"><pre>GridSearchCV(cv=5, estimator=RandomForestClassifier(), n_jobs=-1,\n",
       "             param_grid={&#x27;max_depth&#x27;: [None, 10, 20, 30],\n",
       "                         &#x27;min_samples_leaf&#x27;: [1, 2, 4],\n",
       "                         &#x27;min_samples_split&#x27;: [2, 5, 10],\n",
       "                         &#x27;n_estimators&#x27;: [100, 200, 300]},\n",
       "             scoring=&#x27;accuracy&#x27;)</pre><b>In a Jupyter environment, please rerun this cell to show the HTML representation or trust the notebook. <br />On GitHub, the HTML representation is unable to render, please try loading this page with nbviewer.org.</b></div><div class=\"sk-container\" hidden><div class=\"sk-item sk-dashed-wrapped\"><div class=\"sk-label-container\"><div class=\"sk-label sk-toggleable\"><input class=\"sk-toggleable__control sk-hidden--visually\" id=\"sk-estimator-id-6\" type=\"checkbox\" ><label for=\"sk-estimator-id-6\" class=\"sk-toggleable__label sk-toggleable__label-arrow\">GridSearchCV</label><div class=\"sk-toggleable__content\"><pre>GridSearchCV(cv=5, estimator=RandomForestClassifier(), n_jobs=-1,\n",
       "             param_grid={&#x27;max_depth&#x27;: [None, 10, 20, 30],\n",
       "                         &#x27;min_samples_leaf&#x27;: [1, 2, 4],\n",
       "                         &#x27;min_samples_split&#x27;: [2, 5, 10],\n",
       "                         &#x27;n_estimators&#x27;: [100, 200, 300]},\n",
       "             scoring=&#x27;accuracy&#x27;)</pre></div></div></div><div class=\"sk-parallel\"><div class=\"sk-parallel-item\"><div class=\"sk-item\"><div class=\"sk-label-container\"><div class=\"sk-label sk-toggleable\"><input class=\"sk-toggleable__control sk-hidden--visually\" id=\"sk-estimator-id-7\" type=\"checkbox\" ><label for=\"sk-estimator-id-7\" class=\"sk-toggleable__label sk-toggleable__label-arrow\">estimator: RandomForestClassifier</label><div class=\"sk-toggleable__content\"><pre>RandomForestClassifier()</pre></div></div></div><div class=\"sk-serial\"><div class=\"sk-item\"><div class=\"sk-estimator sk-toggleable\"><input class=\"sk-toggleable__control sk-hidden--visually\" id=\"sk-estimator-id-8\" type=\"checkbox\" ><label for=\"sk-estimator-id-8\" class=\"sk-toggleable__label sk-toggleable__label-arrow\">RandomForestClassifier</label><div class=\"sk-toggleable__content\"><pre>RandomForestClassifier()</pre></div></div></div></div></div></div></div></div></div></div>"
      ],
      "text/plain": [
       "GridSearchCV(cv=5, estimator=RandomForestClassifier(), n_jobs=-1,\n",
       "             param_grid={'max_depth': [None, 10, 20, 30],\n",
       "                         'min_samples_leaf': [1, 2, 4],\n",
       "                         'min_samples_split': [2, 5, 10],\n",
       "                         'n_estimators': [100, 200, 300]},\n",
       "             scoring='accuracy')"
      ]
     },
     "execution_count": 69,
     "metadata": {},
     "output_type": "execute_result"
    }
   ],
   "source": [
    "model = joblib.load('power_plant_prediction.pkl')\n",
    "model"
   ]
  },
  {
   "cell_type": "code",
   "execution_count": null,
   "id": "371e0f1c",
   "metadata": {},
   "outputs": [],
   "source": []
  },
  {
   "cell_type": "code",
   "execution_count": 70,
   "id": "64436ec9",
   "metadata": {},
   "outputs": [
    {
     "data": {
      "text/plain": [
       "array([3, 5, 6, 3, 0, 7, 2, 6, 0, 2, 4, 3, 6, 5, 7, 7, 3, 6, 7, 7, 2, 2,\n",
       "       0, 0, 4, 7, 6, 4, 6, 4, 5, 0, 6, 3, 6, 4, 7, 3, 4, 1, 5, 0, 6, 0,\n",
       "       3, 2, 6, 1, 5, 0, 3, 1, 0, 2, 5, 2, 1, 5, 6, 6, 6, 7, 2, 0, 7, 7,\n",
       "       0, 6, 4, 4, 3, 7, 7, 5, 2, 6, 2, 2, 4, 5, 2, 1, 2, 5, 1, 1, 4, 2,\n",
       "       4, 2, 5, 3, 5, 7, 6, 4, 3, 2, 6, 0, 7, 5, 6, 1, 7, 5, 7, 0, 5, 3,\n",
       "       5, 1, 6, 5, 7, 5, 6, 5, 6, 2, 6, 3, 2, 3, 6, 5, 5, 6, 5, 0, 6, 4,\n",
       "       1, 7, 4, 4, 1, 2, 2, 3, 1, 0, 0, 1, 4, 4, 3, 2, 4, 0, 1, 7, 6, 0,\n",
       "       2, 2, 0, 1, 3, 3, 4, 1, 3, 2, 6, 0, 4, 1, 6, 6, 2, 3, 7, 2, 2, 3,\n",
       "       1, 5, 5, 1, 0, 6, 1, 4, 5, 3, 5, 4, 3, 6, 4, 4, 2, 5, 0, 7, 3, 7,\n",
       "       6, 4, 3, 3, 2, 7, 0, 1, 4, 6, 7, 4, 3, 4, 0, 3, 0, 6, 7, 6, 2, 5,\n",
       "       5, 4, 1, 0, 7, 7, 1, 6, 1, 4, 4, 0, 4, 6, 2, 5, 0, 5, 5, 7, 3, 0,\n",
       "       7, 0, 4, 4, 5, 2, 0, 0, 1, 7, 0, 2, 3, 5, 3, 3, 5, 1, 2, 4, 0, 4,\n",
       "       6, 6, 0, 5, 5, 4, 0, 0, 3, 1, 1, 7, 0, 2, 4, 3, 1, 0, 4, 0, 0, 5,\n",
       "       7, 0, 6, 6, 7, 5, 1, 2, 1, 7, 0, 7, 0, 0, 7, 0, 6, 1, 6, 1, 6, 7,\n",
       "       3, 3, 5, 3, 0, 7, 5, 7, 2, 7, 2, 6, 5, 5, 1, 0, 1, 3, 4, 7, 7, 3,\n",
       "       2, 5, 7, 7, 4, 4, 4, 5, 0, 6, 0, 6, 0, 5, 3, 1, 5, 5, 3, 5, 3, 0,\n",
       "       5, 1, 4, 7, 4, 4, 2, 1, 4, 5, 5, 6, 2, 2, 5, 7, 7, 2, 4, 0, 2, 4,\n",
       "       3, 0, 3, 1, 7, 7, 4, 5, 7, 2, 4, 2, 2, 4, 1, 4, 5, 7, 5, 2, 3, 5,\n",
       "       3, 0, 5, 2, 4, 2, 1, 5, 1, 7, 3, 4, 4, 6, 2, 5, 3, 2, 0, 5, 4, 3,\n",
       "       5, 4, 5, 0, 2, 3, 4, 0, 1, 4, 2, 7, 5, 0, 4, 6, 3, 6, 2, 1, 4, 2,\n",
       "       3, 3, 2, 3, 4, 5, 3, 0, 3, 7, 3, 4, 1, 5, 7, 2, 1, 7, 7, 2, 6, 3,\n",
       "       3, 0, 3, 2, 2, 6, 6, 2, 5, 3, 2, 1, 2, 1, 5, 6, 7, 6, 4, 7, 6, 6,\n",
       "       3, 5, 0, 2, 5, 2, 1, 5, 6, 1, 1, 1, 4, 6, 0, 4, 0, 3, 1, 7, 7, 4,\n",
       "       2, 1, 1, 1, 0, 3, 4, 3, 1, 6, 4, 4, 1, 2, 7, 7, 5, 3, 1, 6, 0, 0,\n",
       "       5, 0, 2, 1, 6, 6, 4, 2, 0, 5, 5, 0, 6, 4, 0, 1, 0, 4, 3, 2, 3, 2,\n",
       "       4, 2, 1, 7, 5, 2, 7, 2, 4, 2, 7, 3, 1, 0, 6, 2, 7, 0, 5, 7, 0, 5,\n",
       "       7, 0, 2, 7, 2, 4, 4, 5, 6, 7, 2, 4, 5, 4, 3, 5, 1, 7, 0, 3, 2, 0,\n",
       "       6, 4, 6, 1, 6, 4, 5, 2, 1, 4, 6, 4, 4, 2, 1, 7, 6, 4, 1, 4, 3, 5,\n",
       "       2, 1, 6, 1])"
      ]
     },
     "execution_count": 70,
     "metadata": {},
     "output_type": "execute_result"
    }
   ],
   "source": [
    "pred_x = model.predict(x_test)\n",
    "pred_x"
   ]
  },
  {
   "cell_type": "code",
   "execution_count": null,
   "id": "2745f152",
   "metadata": {},
   "outputs": [],
   "source": []
  },
  {
   "cell_type": "code",
   "execution_count": 71,
   "id": "afde0fba",
   "metadata": {},
   "outputs": [
    {
     "data": {
      "text/html": [
       "<div>\n",
       "<style scoped>\n",
       "    .dataframe tbody tr th:only-of-type {\n",
       "        vertical-align: middle;\n",
       "    }\n",
       "\n",
       "    .dataframe tbody tr th {\n",
       "        vertical-align: top;\n",
       "    }\n",
       "\n",
       "    .dataframe thead th {\n",
       "        text-align: right;\n",
       "    }\n",
       "</style>\n",
       "<table border=\"1\" class=\"dataframe\">\n",
       "  <thead>\n",
       "    <tr style=\"text-align: right;\">\n",
       "      <th></th>\n",
       "      <th>model predicted</th>\n",
       "      <th>original</th>\n",
       "    </tr>\n",
       "  </thead>\n",
       "  <tbody>\n",
       "    <tr>\n",
       "      <th>811</th>\n",
       "      <td>3</td>\n",
       "      <td>1</td>\n",
       "    </tr>\n",
       "    <tr>\n",
       "      <th>1685</th>\n",
       "      <td>5</td>\n",
       "      <td>5</td>\n",
       "    </tr>\n",
       "    <tr>\n",
       "      <th>200</th>\n",
       "      <td>6</td>\n",
       "      <td>6</td>\n",
       "    </tr>\n",
       "    <tr>\n",
       "      <th>725</th>\n",
       "      <td>3</td>\n",
       "      <td>3</td>\n",
       "    </tr>\n",
       "    <tr>\n",
       "      <th>1081</th>\n",
       "      <td>0</td>\n",
       "      <td>0</td>\n",
       "    </tr>\n",
       "    <tr>\n",
       "      <th>...</th>\n",
       "      <td>...</td>\n",
       "      <td>...</td>\n",
       "    </tr>\n",
       "    <tr>\n",
       "      <th>1771</th>\n",
       "      <td>5</td>\n",
       "      <td>5</td>\n",
       "    </tr>\n",
       "    <tr>\n",
       "      <th>1288</th>\n",
       "      <td>2</td>\n",
       "      <td>2</td>\n",
       "    </tr>\n",
       "    <tr>\n",
       "      <th>1126</th>\n",
       "      <td>1</td>\n",
       "      <td>2</td>\n",
       "    </tr>\n",
       "    <tr>\n",
       "      <th>1854</th>\n",
       "      <td>6</td>\n",
       "      <td>6</td>\n",
       "    </tr>\n",
       "    <tr>\n",
       "      <th>22</th>\n",
       "      <td>1</td>\n",
       "      <td>2</td>\n",
       "    </tr>\n",
       "  </tbody>\n",
       "</table>\n",
       "<p>620 rows × 2 columns</p>\n",
       "</div>"
      ],
      "text/plain": [
       "      model predicted  original\n",
       "811                 3         1\n",
       "1685                5         5\n",
       "200                 6         6\n",
       "725                 3         3\n",
       "1081                0         0\n",
       "...               ...       ...\n",
       "1771                5         5\n",
       "1288                2         2\n",
       "1126                1         2\n",
       "1854                6         6\n",
       "22                  1         2\n",
       "\n",
       "[620 rows x 2 columns]"
      ]
     },
     "execution_count": 71,
     "metadata": {},
     "output_type": "execute_result"
    }
   ],
   "source": [
    "data = pd.DataFrame({'model predicted':pred_x,'original':y_test})\n",
    "data"
   ]
  },
  {
   "cell_type": "code",
   "execution_count": null,
   "id": "c2a257d0",
   "metadata": {},
   "outputs": [],
   "source": []
  },
  {
   "cell_type": "code",
   "execution_count": null,
   "id": "c337be93",
   "metadata": {},
   "outputs": [],
   "source": []
  },
  {
   "cell_type": "code",
   "execution_count": null,
   "id": "f6ba20da",
   "metadata": {},
   "outputs": [],
   "source": []
  },
  {
   "cell_type": "markdown",
   "id": "84419577",
   "metadata": {},
   "source": [
    "# Prediction - 1) capacity_mw"
   ]
  },
  {
   "cell_type": "code",
   "execution_count": 27,
   "id": "c4754ba1",
   "metadata": {},
   "outputs": [
    {
     "data": {
      "image/png": "[encoded data removed]",
      "text/plain": [
       "<Figure size 1200x4000 with 3 Axes>"
      ]
     },
     "metadata": {},
     "output_type": "display_data"
    }
   ],
   "source": [
    "plt.figure(figsize=(12,40))\n",
    "plot = 1\n",
    "for col in num_col:\n",
    "    if plot<=32:\n",
    "        plt.subplot(12,3,plot)\n",
    "        sns.boxplot(gpl[col])\n",
    "        plt.xlabel(col)\n",
    "    plot+=1\n",
    "plt.show()"
   ]
  },
  {
   "cell_type": "code",
   "execution_count": 29,
   "id": "a048d32f",
   "metadata": {},
   "outputs": [],
   "source": [
    "from scipy.stats import zscore"
   ]
  },
  {
   "cell_type": "code",
   "execution_count": 36,
   "id": "c8f86b44",
   "metadata": {},
   "outputs": [
    {
     "data": {
      "text/html": [
       "<div>\n",
       "<style scoped>\n",
       "    .dataframe tbody tr th:only-of-type {\n",
       "        vertical-align: middle;\n",
       "    }\n",
       "\n",
       "    .dataframe tbody tr th {\n",
       "        vertical-align: top;\n",
       "    }\n",
       "\n",
       "    .dataframe thead th {\n",
       "        text-align: right;\n",
       "    }\n",
       "</style>\n",
       "<table border=\"1\" class=\"dataframe\">\n",
       "  <thead>\n",
       "    <tr style=\"text-align: right;\">\n",
       "      <th></th>\n",
       "      <th>longitude</th>\n",
       "    </tr>\n",
       "    <tr>\n",
       "      <th>country</th>\n",
       "      <th></th>\n",
       "    </tr>\n",
       "  </thead>\n",
       "  <tbody>\n",
       "    <tr>\n",
       "      <th>IND</th>\n",
       "      <td>0.878280</td>\n",
       "    </tr>\n",
       "    <tr>\n",
       "      <th>IND</th>\n",
       "      <td>0.593788</td>\n",
       "    </tr>\n",
       "    <tr>\n",
       "      <th>IND</th>\n",
       "      <td>1.682394</td>\n",
       "    </tr>\n",
       "    <tr>\n",
       "      <th>IND</th>\n",
       "      <td>2.889052</td>\n",
       "    </tr>\n",
       "    <tr>\n",
       "      <th>IND</th>\n",
       "      <td>1.027976</td>\n",
       "    </tr>\n",
       "    <tr>\n",
       "      <th>...</th>\n",
       "      <td>...</td>\n",
       "    </tr>\n",
       "    <tr>\n",
       "      <th>IND</th>\n",
       "      <td>0.022477</td>\n",
       "    </tr>\n",
       "    <tr>\n",
       "      <th>IND</th>\n",
       "      <td>0.145644</td>\n",
       "    </tr>\n",
       "    <tr>\n",
       "      <th>IND</th>\n",
       "      <td>0.391673</td>\n",
       "    </tr>\n",
       "    <tr>\n",
       "      <th>IND</th>\n",
       "      <td>0.772866</td>\n",
       "    </tr>\n",
       "    <tr>\n",
       "      <th>IND</th>\n",
       "      <td>0.002473</td>\n",
       "    </tr>\n",
       "  </tbody>\n",
       "</table>\n",
       "<p>907 rows × 1 columns</p>\n",
       "</div>"
      ],
      "text/plain": [
       "         longitude\n",
       "country           \n",
       "IND       0.878280\n",
       "IND       0.593788\n",
       "IND       1.682394\n",
       "IND       2.889052\n",
       "IND       1.027976\n",
       "...            ...\n",
       "IND       0.022477\n",
       "IND       0.145644\n",
       "IND       0.391673\n",
       "IND       0.772866\n",
       "IND       0.002473\n",
       "\n",
       "[907 rows x 1 columns]"
      ]
     },
     "execution_count": 36,
     "metadata": {},
     "output_type": "execute_result"
    }
   ],
   "source": [
    "df2 = gpl[['longitude']]\n",
    "z=np.abs(zscore(df2))\n",
    "z"
   ]
  },
  {
   "cell_type": "code",
   "execution_count": 37,
   "id": "d256fe80",
   "metadata": {},
   "outputs": [
    {
     "data": {
      "text/plain": [
       "(array([179, 183, 244, 323, 333, 340, 360, 416, 427, 499, 519, 546, 577,\n",
       "        638, 818, 847], dtype=int64),\n",
       " array([0, 0, 0, 0, 0, 0, 0, 0, 0, 0, 0, 0, 0, 0, 0, 0], dtype=int64))"
      ]
     },
     "execution_count": 37,
     "metadata": {},
     "output_type": "execute_result"
    }
   ],
   "source": [
    "np.where(z>3)"
   ]
  },
  {
   "cell_type": "code",
   "execution_count": 38,
   "id": "5c740c35",
   "metadata": {},
   "outputs": [],
   "source": [
    "df2 = gpl[(z<3).all(axis=1)]"
   ]
  },
  {
   "cell_type": "code",
   "execution_count": 40,
   "id": "d8134e54",
   "metadata": {},
   "outputs": [
    {
     "data": {
      "text/plain": [
       "(891, 7)"
      ]
     },
     "execution_count": 40,
     "metadata": {},
     "output_type": "execute_result"
    }
   ],
   "source": [
    "df2.shape"
   ]
  },
  {
   "cell_type": "code",
   "execution_count": null,
   "id": "704044e6",
   "metadata": {},
   "outputs": [],
   "source": []
  },
  {
   "cell_type": "code",
   "execution_count": 41,
   "id": "c250fa6f",
   "metadata": {},
   "outputs": [
    {
     "name": "stdout",
     "output_type": "stream",
     "text": [
      "Loss of Data in percentage 1.7640573318632855\n"
     ]
    }
   ],
   "source": [
    "print('Loss of Data in percentage',((gpl.shape[0]-df2.shape[0])/gpl.shape[0])*100)"
   ]
  },
  {
   "cell_type": "code",
   "execution_count": null,
   "id": "1a004456",
   "metadata": {},
   "outputs": [],
   "source": []
  },
  {
   "cell_type": "code",
   "execution_count": 42,
   "id": "5228d18e",
   "metadata": {},
   "outputs": [
    {
     "data": {
      "text/plain": [
       "capacity_mw    3.123576\n",
       "latitude      -0.149698\n",
       "longitude      1.141881\n",
       "dtype: float64"
      ]
     },
     "execution_count": 42,
     "metadata": {},
     "output_type": "execute_result"
    }
   ],
   "source": [
    "gpl.skew()"
   ]
  },
  {
   "cell_type": "code",
   "execution_count": 45,
   "id": "8cc07330",
   "metadata": {},
   "outputs": [],
   "source": [
    "gpl['longitude'] = np.sqrt(gpl['longitude'])"
   ]
  },
  {
   "cell_type": "code",
   "execution_count": 46,
   "id": "9ac0c5c4",
   "metadata": {},
   "outputs": [
    {
     "data": {
      "text/plain": [
       "capacity_mw    3.123576\n",
       "latitude      -0.149698\n",
       "longitude      0.967550\n",
       "dtype: float64"
      ]
     },
     "execution_count": 46,
     "metadata": {},
     "output_type": "execute_result"
    }
   ],
   "source": [
    "gpl.skew()"
   ]
  },
  {
   "cell_type": "code",
   "execution_count": null,
   "id": "08f064fe",
   "metadata": {},
   "outputs": [],
   "source": []
  },
  {
   "cell_type": "markdown",
   "id": "ff59727f",
   "metadata": {},
   "source": [
    "Encoding Categorical columns\n"
   ]
  },
  {
   "cell_type": "code",
   "execution_count": 47,
   "id": "f970f665",
   "metadata": {},
   "outputs": [
    {
     "data": {
      "text/html": [
       "<style>#sk-container-id-1 {color: black;background-color: white;}#sk-container-id-1 pre{padding: 0;}#sk-container-id-1 div.sk-toggleable {background-color: white;}#sk-container-id-1 label.sk-toggleable__label {cursor: pointer;display: block;width: 100%;margin-bottom: 0;padding: 0.3em;box-sizing: border-box;text-align: center;}#sk-container-id-1 label.sk-toggleable__label-arrow:before {content: \"▸\";float: left;margin-right: 0.25em;color: #696969;}#sk-container-id-1 label.sk-toggleable__label-arrow:hover:before {color: black;}#sk-container-id-1 div.sk-estimator:hover label.sk-toggleable__label-arrow:before {color: black;}#sk-container-id-1 div.sk-toggleable__content {max-height: 0;max-width: 0;overflow: hidden;text-align: left;background-color: #f0f8ff;}#sk-container-id-1 div.sk-toggleable__content pre {margin: 0.2em;color: black;border-radius: 0.25em;background-color: #f0f8ff;}#sk-container-id-1 input.sk-toggleable__control:checked~div.sk-toggleable__content {max-height: 200px;max-width: 100%;overflow: auto;}#sk-container-id-1 input.sk-toggleable__control:checked~label.sk-toggleable__label-arrow:before {content: \"▾\";}#sk-container-id-1 div.sk-estimator input.sk-toggleable__control:checked~label.sk-toggleable__label {background-color: #d4ebff;}#sk-container-id-1 div.sk-label input.sk-toggleable__control:checked~label.sk-toggleable__label {background-color: #d4ebff;}#sk-container-id-1 input.sk-hidden--visually {border: 0;clip: rect(1px 1px 1px 1px);clip: rect(1px, 1px, 1px, 1px);height: 1px;margin: -1px;overflow: hidden;padding: 0;position: absolute;width: 1px;}#sk-container-id-1 div.sk-estimator {font-family: monospace;background-color: #f0f8ff;border: 1px dotted black;border-radius: 0.25em;box-sizing: border-box;margin-bottom: 0.5em;}#sk-container-id-1 div.sk-estimator:hover {background-color: #d4ebff;}#sk-container-id-1 div.sk-parallel-item::after {content: \"\";width: 100%;border-bottom: 1px solid gray;flex-grow: 1;}#sk-container-id-1 div.sk-label:hover label.sk-toggleable__label {background-color: #d4ebff;}#sk-container-id-1 div.sk-serial::before {content: \"\";position: absolute;border-left: 1px solid gray;box-sizing: border-box;top: 0;bottom: 0;left: 50%;z-index: 0;}#sk-container-id-1 div.sk-serial {display: flex;flex-direction: column;align-items: center;background-color: white;padding-right: 0.2em;padding-left: 0.2em;position: relative;}#sk-container-id-1 div.sk-item {position: relative;z-index: 1;}#sk-container-id-1 div.sk-parallel {display: flex;align-items: stretch;justify-content: center;background-color: white;position: relative;}#sk-container-id-1 div.sk-item::before, #sk-container-id-1 div.sk-parallel-item::before {content: \"\";position: absolute;border-left: 1px solid gray;box-sizing: border-box;top: 0;bottom: 0;left: 50%;z-index: -1;}#sk-container-id-1 div.sk-parallel-item {display: flex;flex-direction: column;z-index: 1;position: relative;background-color: white;}#sk-container-id-1 div.sk-parallel-item:first-child::after {align-self: flex-end;width: 50%;}#sk-container-id-1 div.sk-parallel-item:last-child::after {align-self: flex-start;width: 50%;}#sk-container-id-1 div.sk-parallel-item:only-child::after {width: 0;}#sk-container-id-1 div.sk-dashed-wrapped {border: 1px dashed gray;margin: 0 0.4em 0.5em 0.4em;box-sizing: border-box;padding-bottom: 0.4em;background-color: white;}#sk-container-id-1 div.sk-label label {font-family: monospace;font-weight: bold;display: inline-block;line-height: 1.2em;}#sk-container-id-1 div.sk-label-container {text-align: center;}#sk-container-id-1 div.sk-container {/* jupyter's `normalize.less` sets `[hidden] { display: none; }` but bootstrap.min.css set `[hidden] { display: none !important; }` so we also need the `!important` here to be able to override the default hidden behavior on the sphinx rendered scikit-learn.org. See: https://github.com/scikit-learn/scikit-learn/issues/21755 */display: inline-block !important;position: relative;}#sk-container-id-1 div.sk-text-repr-fallback {display: none;}</style><div id=\"sk-container-id-1\" class=\"sk-top-container\"><div class=\"sk-text-repr-fallback\"><pre>LabelEncoder()</pre><b>In a Jupyter environment, please rerun this cell to show the HTML representation or trust the notebook. <br />On GitHub, the HTML representation is unable to render, please try loading this page with nbviewer.org.</b></div><div class=\"sk-container\" hidden><div class=\"sk-item\"><div class=\"sk-estimator sk-toggleable\"><input class=\"sk-toggleable__control sk-hidden--visually\" id=\"sk-estimator-id-1\" type=\"checkbox\" checked><label for=\"sk-estimator-id-1\" class=\"sk-toggleable__label sk-toggleable__label-arrow\">LabelEncoder</label><div class=\"sk-toggleable__content\"><pre>LabelEncoder()</pre></div></div></div></div></div>"
      ],
      "text/plain": [
       "LabelEncoder()"
      ]
     },
     "execution_count": 47,
     "metadata": {},
     "output_type": "execute_result"
    }
   ],
   "source": [
    "import sklearn\n",
    "from sklearn.preprocessing import LabelEncoder\n",
    "\n",
    "le = LabelEncoder()\n",
    "le"
   ]
  },
  {
   "cell_type": "code",
   "execution_count": 49,
   "id": "dd2434f4",
   "metadata": {},
   "outputs": [],
   "source": [
    "gpl['primary_fuel'] = le.fit_transform(gpl['primary_fuel'])\n",
    "gpl['source'] = le.fit_transform(gpl['source'])\n",
    "gpl['url'] = le.fit_transform(gpl['url'])\n",
    "gpl['geolocation_source'] = le.fit_transform(gpl['geolocation_source'])"
   ]
  },
  {
   "cell_type": "code",
   "execution_count": null,
   "id": "0f0bb210",
   "metadata": {},
   "outputs": [],
   "source": []
  },
  {
   "cell_type": "code",
   "execution_count": 50,
   "id": "6a61aa4c",
   "metadata": {},
   "outputs": [
    {
     "data": {
      "image/png": "[encoded data removed]",
      "text/plain": [
       "<Figure size 800x500 with 2 Axes>"
      ]
     },
     "metadata": {},
     "output_type": "display_data"
    }
   ],
   "source": [
    "plt.figure(figsize=(8,5))\n",
    "sns.heatmap(gpl.corr(),annot= True)\n",
    "plt.show()"
   ]
  },
  {
   "cell_type": "code",
   "execution_count": null,
   "id": "ae6243fd",
   "metadata": {},
   "outputs": [],
   "source": []
  },
  {
   "cell_type": "markdown",
   "id": "42051fd8",
   "metadata": {},
   "source": [
    "splitting data"
   ]
  },
  {
   "cell_type": "code",
   "execution_count": 56,
   "id": "ae8dfd11",
   "metadata": {},
   "outputs": [],
   "source": [
    "x = gpl.drop('capacity_mw',axis=1)\n",
    "y = gpl['capacity_mw']"
   ]
  },
  {
   "cell_type": "code",
   "execution_count": 57,
   "id": "d3ccc3ea",
   "metadata": {},
   "outputs": [
    {
     "data": {
      "text/plain": [
       "(907, 6)"
      ]
     },
     "execution_count": 57,
     "metadata": {},
     "output_type": "execute_result"
    }
   ],
   "source": [
    "x.shape"
   ]
  },
  {
   "cell_type": "code",
   "execution_count": 59,
   "id": "1fbd2cc4",
   "metadata": {},
   "outputs": [
    {
     "data": {
      "text/plain": [
       "(907,)"
      ]
     },
     "execution_count": 59,
     "metadata": {},
     "output_type": "execute_result"
    }
   ],
   "source": [
    "y.shape"
   ]
  },
  {
   "cell_type": "code",
   "execution_count": null,
   "id": "49256267",
   "metadata": {},
   "outputs": [],
   "source": []
  },
  {
   "cell_type": "code",
   "execution_count": 64,
   "id": "e7013a7e",
   "metadata": {},
   "outputs": [
    {
     "data": {
      "text/html": [
       "<div>\n",
       "<style scoped>\n",
       "    .dataframe tbody tr th:only-of-type {\n",
       "        vertical-align: middle;\n",
       "    }\n",
       "\n",
       "    .dataframe tbody tr th {\n",
       "        vertical-align: top;\n",
       "    }\n",
       "\n",
       "    .dataframe thead th {\n",
       "        text-align: right;\n",
       "    }\n",
       "</style>\n",
       "<table border=\"1\" class=\"dataframe\">\n",
       "  <thead>\n",
       "    <tr style=\"text-align: right;\">\n",
       "      <th></th>\n",
       "      <th>latitude</th>\n",
       "      <th>longitude</th>\n",
       "      <th>primary_fuel</th>\n",
       "      <th>source</th>\n",
       "      <th>url</th>\n",
       "      <th>geolocation_source</th>\n",
       "    </tr>\n",
       "  </thead>\n",
       "  <tbody>\n",
       "    <tr>\n",
       "      <th>0</th>\n",
       "      <td>1.149805</td>\n",
       "      <td>-0.896071</td>\n",
       "      <td>1.225688</td>\n",
       "      <td>1.460215</td>\n",
       "      <td>0.476673</td>\n",
       "      <td>-1.083349</td>\n",
       "    </tr>\n",
       "    <tr>\n",
       "      <th>1</th>\n",
       "      <td>0.587311</td>\n",
       "      <td>-0.592793</td>\n",
       "      <td>-0.967877</td>\n",
       "      <td>2.917019</td>\n",
       "      <td>1.116401</td>\n",
       "      <td>0.394241</td>\n",
       "    </tr>\n",
       "    <tr>\n",
       "      <th>2</th>\n",
       "      <td>0.116179</td>\n",
       "      <td>-1.779578</td>\n",
       "      <td>1.664401</td>\n",
       "      <td>-0.512075</td>\n",
       "      <td>1.571318</td>\n",
       "      <td>0.394241</td>\n",
       "    </tr>\n",
       "    <tr>\n",
       "      <th>3</th>\n",
       "      <td>0.439989</td>\n",
       "      <td>2.787760</td>\n",
       "      <td>-0.529164</td>\n",
       "      <td>-0.489662</td>\n",
       "      <td>-0.518459</td>\n",
       "      <td>0.394241</td>\n",
       "    </tr>\n",
       "    <tr>\n",
       "      <th>4</th>\n",
       "      <td>0.125479</td>\n",
       "      <td>1.052521</td>\n",
       "      <td>-0.967877</td>\n",
       "      <td>-0.489662</td>\n",
       "      <td>-0.518459</td>\n",
       "      <td>0.394241</td>\n",
       "    </tr>\n",
       "    <tr>\n",
       "      <th>...</th>\n",
       "      <td>...</td>\n",
       "      <td>...</td>\n",
       "      <td>...</td>\n",
       "      <td>...</td>\n",
       "      <td>...</td>\n",
       "      <td>...</td>\n",
       "    </tr>\n",
       "    <tr>\n",
       "      <th>902</th>\n",
       "      <td>-0.806975</td>\n",
       "      <td>0.002503</td>\n",
       "      <td>-0.967877</td>\n",
       "      <td>-0.489662</td>\n",
       "      <td>-0.518459</td>\n",
       "      <td>0.394241</td>\n",
       "    </tr>\n",
       "    <tr>\n",
       "      <th>903</th>\n",
       "      <td>-1.366853</td>\n",
       "      <td>0.174325</td>\n",
       "      <td>1.225688</td>\n",
       "      <td>0.743019</td>\n",
       "      <td>-1.030242</td>\n",
       "      <td>-2.560940</td>\n",
       "    </tr>\n",
       "    <tr>\n",
       "      <th>904</th>\n",
       "      <td>-0.974707</td>\n",
       "      <td>-0.380135</td>\n",
       "      <td>1.664401</td>\n",
       "      <td>-0.512075</td>\n",
       "      <td>2.353208</td>\n",
       "      <td>0.394241</td>\n",
       "    </tr>\n",
       "    <tr>\n",
       "      <th>905</th>\n",
       "      <td>0.518793</td>\n",
       "      <td>-0.783150</td>\n",
       "      <td>-0.967877</td>\n",
       "      <td>0.339596</td>\n",
       "      <td>-0.177271</td>\n",
       "      <td>0.394241</td>\n",
       "    </tr>\n",
       "    <tr>\n",
       "      <th>906</th>\n",
       "      <td>-1.853834</td>\n",
       "      <td>0.028097</td>\n",
       "      <td>1.664401</td>\n",
       "      <td>-0.512075</td>\n",
       "      <td>2.139965</td>\n",
       "      <td>0.394241</td>\n",
       "    </tr>\n",
       "  </tbody>\n",
       "</table>\n",
       "<p>907 rows × 6 columns</p>\n",
       "</div>"
      ],
      "text/plain": [
       "     latitude  longitude  primary_fuel    source       url  geolocation_source\n",
       "0    1.149805  -0.896071      1.225688  1.460215  0.476673           -1.083349\n",
       "1    0.587311  -0.592793     -0.967877  2.917019  1.116401            0.394241\n",
       "2    0.116179  -1.779578      1.664401 -0.512075  1.571318            0.394241\n",
       "3    0.439989   2.787760     -0.529164 -0.489662 -0.518459            0.394241\n",
       "4    0.125479   1.052521     -0.967877 -0.489662 -0.518459            0.394241\n",
       "..        ...        ...           ...       ...       ...                 ...\n",
       "902 -0.806975   0.002503     -0.967877 -0.489662 -0.518459            0.394241\n",
       "903 -1.366853   0.174325      1.225688  0.743019 -1.030242           -2.560940\n",
       "904 -0.974707  -0.380135      1.664401 -0.512075  2.353208            0.394241\n",
       "905  0.518793  -0.783150     -0.967877  0.339596 -0.177271            0.394241\n",
       "906 -1.853834   0.028097      1.664401 -0.512075  2.139965            0.394241\n",
       "\n",
       "[907 rows x 6 columns]"
      ]
     },
     "execution_count": 64,
     "metadata": {},
     "output_type": "execute_result"
    }
   ],
   "source": [
    "from sklearn.preprocessing import StandardScaler\n",
    "\n",
    "sc = StandardScaler()\n",
    "x = pd.DataFrame(sc.fit_transform(x), columns=x.columns)\n",
    "x"
   ]
  },
  {
   "cell_type": "code",
   "execution_count": null,
   "id": "f3654299",
   "metadata": {},
   "outputs": [],
   "source": []
  },
  {
   "cell_type": "markdown",
   "id": "c18ccf1b",
   "metadata": {},
   "source": [
    "# Building Model"
   ]
  },
  {
   "cell_type": "code",
   "execution_count": 65,
   "id": "c0c77592",
   "metadata": {},
   "outputs": [],
   "source": [
    "from sklearn.model_selection import train_test_split\n",
    "from sklearn.linear_model import LinearRegression, Lasso, Ridge\n",
    "from sklearn.metrics import mean_squared_error, mean_absolute_error, r2_score"
   ]
  },
  {
   "cell_type": "code",
   "execution_count": 66,
   "id": "862a3315",
   "metadata": {},
   "outputs": [
    {
     "name": "stdout",
     "output_type": "stream",
     "text": [
      "333594.72954577394\n",
      "339.14131428089337\n",
      "0.20846098031799043\n"
     ]
    }
   ],
   "source": [
    "x_train,x_test,y_train,y_test = train_test_split(x,y, test_size=.30, random_state=42)\n",
    "\n",
    "\n",
    "lr = LinearRegression()\n",
    "lr.fit(x_train,y_train)\n",
    "predlr = lr.predict(x_test)\n",
    "print(mean_squared_error(y_test,predlr))\n",
    "print(mean_absolute_error(y_test,predlr))\n",
    "print(r2_score(y_test,predlr))"
   ]
  },
  {
   "cell_type": "code",
   "execution_count": null,
   "id": "529420e8",
   "metadata": {},
   "outputs": [],
   "source": []
  },
  {
   "cell_type": "code",
   "execution_count": 67,
   "id": "43866fde",
   "metadata": {},
   "outputs": [
    {
     "name": "stdout",
     "output_type": "stream",
     "text": [
      "334073.33692579\n",
      "338.7012765362622\n",
      "0.20732536160810766\n"
     ]
    }
   ],
   "source": [
    "la = Lasso()\n",
    "la.fit(x_train,y_train)\n",
    "predla = la.predict(x_test)\n",
    "print(mean_squared_error(y_test,predla))\n",
    "print(mean_absolute_error(y_test,predla))\n",
    "print(r2_score(y_test,predla))"
   ]
  },
  {
   "cell_type": "code",
   "execution_count": null,
   "id": "bc073507",
   "metadata": {},
   "outputs": [],
   "source": []
  },
  {
   "cell_type": "code",
   "execution_count": 68,
   "id": "b615772a",
   "metadata": {},
   "outputs": [
    {
     "name": "stdout",
     "output_type": "stream",
     "text": [
      "333749.1189228255\n",
      "338.96877646704877\n",
      "0.20809465194005983\n"
     ]
    }
   ],
   "source": [
    "rg = Ridge()\n",
    "rg.fit(x_train,y_train)\n",
    "predrg = rg.predict(x_test)\n",
    "print(mean_squared_error(y_test,predrg))\n",
    "print(mean_absolute_error(y_test,predrg))\n",
    "print(r2_score(y_test,predrg))"
   ]
  },
  {
   "cell_type": "code",
   "execution_count": null,
   "id": "2b3296be",
   "metadata": {},
   "outputs": [],
   "source": []
  },
  {
   "cell_type": "code",
   "execution_count": 69,
   "id": "3759cc4d",
   "metadata": {},
   "outputs": [],
   "source": [
    "from sklearn.ensemble import RandomForestRegressor, ExtraTreesRegressor\n",
    "from sklearn.tree import DecisionTreeRegressor\n",
    "from sklearn.neighbors import KNeighborsRegressor"
   ]
  },
  {
   "cell_type": "code",
   "execution_count": 70,
   "id": "04765c2b",
   "metadata": {},
   "outputs": [
    {
     "name": "stdout",
     "output_type": "stream",
     "text": [
      "244806.11337572505\n",
      "240.84123702798527\n",
      "0.4191347349599065\n"
     ]
    }
   ],
   "source": [
    "rfr = RandomForestRegressor()\n",
    "rfr.fit(x_train,y_train)\n",
    "predrfr = rfr.predict(x_test)\n",
    "print(mean_squared_error(y_test,predrfr))\n",
    "print(mean_absolute_error(y_test,predrfr))\n",
    "print(r2_score(y_test,predrfr))"
   ]
  },
  {
   "cell_type": "code",
   "execution_count": null,
   "id": "cf7fe5b4",
   "metadata": {},
   "outputs": [],
   "source": []
  },
  {
   "cell_type": "code",
   "execution_count": 71,
   "id": "e9be184f",
   "metadata": {},
   "outputs": [
    {
     "name": "stdout",
     "output_type": "stream",
     "text": [
      "295793.2651423705\n",
      "254.42809654456656\n",
      "0.2981546457939275\n"
     ]
    }
   ],
   "source": [
    "etr = ExtraTreesRegressor()\n",
    "etr.fit(x_train,y_train)\n",
    "predetr = etr.predict(x_test)\n",
    "print(mean_squared_error(y_test,predetr))\n",
    "print(mean_absolute_error(y_test,predetr))\n",
    "print(r2_score(y_test,predetr))"
   ]
  },
  {
   "cell_type": "code",
   "execution_count": null,
   "id": "66f4c1ea",
   "metadata": {},
   "outputs": [],
   "source": []
  },
  {
   "cell_type": "code",
   "execution_count": 72,
   "id": "9ef9e13c",
   "metadata": {},
   "outputs": [
    {
     "name": "stdout",
     "output_type": "stream",
     "text": [
      "482177.7838967843\n",
      "314.99992307692304\n",
      "-0.1440904084359491\n"
     ]
    }
   ],
   "source": [
    "dtr = DecisionTreeRegressor()\n",
    "dtr.fit(x_train,y_train)\n",
    "predtr = dtr.predict(x_test)\n",
    "print(mean_squared_error(y_test,predtr))\n",
    "print(mean_absolute_error(y_test,predtr))\n",
    "print(r2_score(y_test,predtr))"
   ]
  },
  {
   "cell_type": "code",
   "execution_count": null,
   "id": "f2e609c0",
   "metadata": {},
   "outputs": [],
   "source": []
  },
  {
   "cell_type": "code",
   "execution_count": 73,
   "id": "c9e1a208",
   "metadata": {},
   "outputs": [
    {
     "name": "stdout",
     "output_type": "stream",
     "text": [
      "225671.06003301745\n",
      "252.35907545787546\n",
      "0.46453755467793045\n"
     ]
    }
   ],
   "source": [
    "knr = KNeighborsRegressor()\n",
    "knr.fit(x_train,y_train)\n",
    "predknr = knr.predict(x_test)\n",
    "print(mean_squared_error(y_test,predknr))\n",
    "print(mean_absolute_error(y_test,predknr))\n",
    "print(r2_score(y_test,predknr))"
   ]
  },
  {
   "cell_type": "code",
   "execution_count": null,
   "id": "622f5e47",
   "metadata": {},
   "outputs": [],
   "source": []
  },
  {
   "cell_type": "markdown",
   "id": "1ca8715d",
   "metadata": {},
   "source": [
    "check for Cross validation"
   ]
  },
  {
   "cell_type": "code",
   "execution_count": 74,
   "id": "c0b12f0e",
   "metadata": {},
   "outputs": [],
   "source": [
    "from sklearn.model_selection import cross_val_score"
   ]
  },
  {
   "cell_type": "code",
   "execution_count": 75,
   "id": "f523d028",
   "metadata": {},
   "outputs": [
    {
     "name": "stdout",
     "output_type": "stream",
     "text": [
      "[0.17376765 0.13147361 0.15583722 0.24769624 0.23485274]\n",
      "0.18872549175385817\n",
      "difference in r2_score and cvs 0.019735488564132264\n"
     ]
    }
   ],
   "source": [
    "score1 = cross_val_score(lr,x,y)\n",
    "print(score1)\n",
    "print(score1.mean())\n",
    "print('difference in r2_score and cvs',r2_score(y_test,predlr)-score1.mean())"
   ]
  },
  {
   "cell_type": "code",
   "execution_count": null,
   "id": "a272ef03",
   "metadata": {},
   "outputs": [],
   "source": []
  },
  {
   "cell_type": "code",
   "execution_count": 76,
   "id": "c4c437a7",
   "metadata": {},
   "outputs": [
    {
     "name": "stdout",
     "output_type": "stream",
     "text": [
      "[0.17565477 0.13624303 0.15606569 0.24611795 0.23380375]\n",
      "0.1895770378628939\n",
      "difference in r2_score and cvs 0.017748323745213762\n"
     ]
    }
   ],
   "source": [
    "score2 = cross_val_score(la,x,y)\n",
    "print(score2)\n",
    "print(score2.mean())\n",
    "print('difference in r2_score and cvs',r2_score(y_test,predla)-score2.mean())"
   ]
  },
  {
   "cell_type": "code",
   "execution_count": null,
   "id": "f81684d4",
   "metadata": {},
   "outputs": [],
   "source": []
  },
  {
   "cell_type": "code",
   "execution_count": 77,
   "id": "e91b61fc",
   "metadata": {},
   "outputs": [
    {
     "name": "stdout",
     "output_type": "stream",
     "text": [
      "[0.17427066 0.13323216 0.15569239 0.24743353 0.23454525]\n",
      "0.1890347954546359\n",
      "difference in r2_score and cvs 0.019059856485423937\n"
     ]
    }
   ],
   "source": [
    "score3 = cross_val_score(rg,x,y)\n",
    "print(score3)\n",
    "print(score3.mean())\n",
    "print('difference in r2_score and cvs',r2_score(y_test,predrg)-score3.mean())"
   ]
  },
  {
   "cell_type": "code",
   "execution_count": null,
   "id": "05be089d",
   "metadata": {},
   "outputs": [],
   "source": []
  },
  {
   "cell_type": "code",
   "execution_count": 78,
   "id": "68478795",
   "metadata": {},
   "outputs": [
    {
     "name": "stdout",
     "output_type": "stream",
     "text": [
      "[0.40394167 0.39641898 0.32445803 0.35251481 0.47614247]\n",
      "0.3906951917265749\n",
      "difference in r2_score and cvs 0.028439543233331588\n"
     ]
    }
   ],
   "source": [
    "score4 = cross_val_score(rfr,x,y)\n",
    "print(score4)\n",
    "print(score4.mean())\n",
    "print('difference in r2_score and cvs',r2_score(y_test,predrfr)-score4.mean())"
   ]
  },
  {
   "cell_type": "code",
   "execution_count": null,
   "id": "f716f63f",
   "metadata": {},
   "outputs": [],
   "source": []
  },
  {
   "cell_type": "code",
   "execution_count": 79,
   "id": "d0a5c409",
   "metadata": {},
   "outputs": [
    {
     "name": "stdout",
     "output_type": "stream",
     "text": [
      "[0.34831291 0.45314759 0.22791699 0.30482816 0.48257704]\n",
      "0.36335653712489113\n",
      "difference in r2_score and cvs -0.06520189133096366\n"
     ]
    }
   ],
   "source": [
    "score5 = cross_val_score(etr,x,y)\n",
    "print(score5)\n",
    "print(score5.mean())\n",
    "print('difference in r2_score and cvs',r2_score(y_test,predetr)-score5.mean())"
   ]
  },
  {
   "cell_type": "code",
   "execution_count": null,
   "id": "a62eb7e9",
   "metadata": {},
   "outputs": [],
   "source": []
  },
  {
   "cell_type": "code",
   "execution_count": 80,
   "id": "ed4b1d48",
   "metadata": {},
   "outputs": [
    {
     "name": "stdout",
     "output_type": "stream",
     "text": [
      "[ 0.00347405 -0.0331906   0.12151189 -0.04138927  0.44992154]\n",
      "0.10006552242533688\n",
      "difference in r2_score and cvs -0.244155930861286\n"
     ]
    }
   ],
   "source": [
    "score6 = cross_val_score(dtr,x,y)\n",
    "print(score6)\n",
    "print(score6.mean())\n",
    "print('difference in r2_score and cvs',r2_score(y_test,predtr)-score6.mean())"
   ]
  },
  {
   "cell_type": "code",
   "execution_count": null,
   "id": "aa402fbd",
   "metadata": {},
   "outputs": [],
   "source": []
  },
  {
   "cell_type": "code",
   "execution_count": 81,
   "id": "77633864",
   "metadata": {},
   "outputs": [
    {
     "name": "stdout",
     "output_type": "stream",
     "text": [
      "[0.20944412 0.20420451 0.08765359 0.55141444 0.43465592]\n",
      "0.2974745158444452\n",
      "difference in r2_score and cvs 0.16706303883348528\n"
     ]
    }
   ],
   "source": [
    "score7 = cross_val_score(knr,x,y)\n",
    "print(score7)\n",
    "print(score7.mean())\n",
    "print('difference in r2_score and cvs',r2_score(y_test,predknr)-score7.mean())"
   ]
  },
  {
   "cell_type": "code",
   "execution_count": null,
   "id": "7a3aa069",
   "metadata": {},
   "outputs": [],
   "source": []
  },
  {
   "cell_type": "markdown",
   "id": "71e3d84c",
   "metadata": {},
   "source": [
    "So here we can see that KNeighborsRegressor is us R2_score 46 which is higher than any other algo "
   ]
  },
  {
   "cell_type": "code",
   "execution_count": 82,
   "id": "b4906b77",
   "metadata": {},
   "outputs": [],
   "source": [
    "from sklearn.model_selection import GridSearchCV"
   ]
  },
  {
   "cell_type": "code",
   "execution_count": 84,
   "id": "ddff92d3",
   "metadata": {},
   "outputs": [],
   "source": [
    "params = {'n_neighbors': [3, 5, 7, 9],\n",
    "              'weights': ['uniform', 'distance'],\n",
    "              'p': [1, 2],}"
   ]
  },
  {
   "cell_type": "code",
   "execution_count": null,
   "id": "4dc8632c",
   "metadata": {},
   "outputs": [],
   "source": []
  },
  {
   "cell_type": "code",
   "execution_count": 86,
   "id": "4b034239",
   "metadata": {},
   "outputs": [],
   "source": [
    "knn = KNeighborsRegressor()"
   ]
  },
  {
   "cell_type": "code",
   "execution_count": 87,
   "id": "a9d72eec",
   "metadata": {},
   "outputs": [
    {
     "data": {
      "text/html": [
       "<style>#sk-container-id-2 {color: black;background-color: white;}#sk-container-id-2 pre{padding: 0;}#sk-container-id-2 div.sk-toggleable {background-color: white;}#sk-container-id-2 label.sk-toggleable__label {cursor: pointer;display: block;width: 100%;margin-bottom: 0;padding: 0.3em;box-sizing: border-box;text-align: center;}#sk-container-id-2 label.sk-toggleable__label-arrow:before {content: \"▸\";float: left;margin-right: 0.25em;color: #696969;}#sk-container-id-2 label.sk-toggleable__label-arrow:hover:before {color: black;}#sk-container-id-2 div.sk-estimator:hover label.sk-toggleable__label-arrow:before {color: black;}#sk-container-id-2 div.sk-toggleable__content {max-height: 0;max-width: 0;overflow: hidden;text-align: left;background-color: #f0f8ff;}#sk-container-id-2 div.sk-toggleable__content pre {margin: 0.2em;color: black;border-radius: 0.25em;background-color: #f0f8ff;}#sk-container-id-2 input.sk-toggleable__control:checked~div.sk-toggleable__content {max-height: 200px;max-width: 100%;overflow: auto;}#sk-container-id-2 input.sk-toggleable__control:checked~label.sk-toggleable__label-arrow:before {content: \"▾\";}#sk-container-id-2 div.sk-estimator input.sk-toggleable__control:checked~label.sk-toggleable__label {background-color: #d4ebff;}#sk-container-id-2 div.sk-label input.sk-toggleable__control:checked~label.sk-toggleable__label {background-color: #d4ebff;}#sk-container-id-2 input.sk-hidden--visually {border: 0;clip: rect(1px 1px 1px 1px);clip: rect(1px, 1px, 1px, 1px);height: 1px;margin: -1px;overflow: hidden;padding: 0;position: absolute;width: 1px;}#sk-container-id-2 div.sk-estimator {font-family: monospace;background-color: #f0f8ff;border: 1px dotted black;border-radius: 0.25em;box-sizing: border-box;margin-bottom: 0.5em;}#sk-container-id-2 div.sk-estimator:hover {background-color: #d4ebff;}#sk-container-id-2 div.sk-parallel-item::after {content: \"\";width: 100%;border-bottom: 1px solid gray;flex-grow: 1;}#sk-container-id-2 div.sk-label:hover label.sk-toggleable__label {background-color: #d4ebff;}#sk-container-id-2 div.sk-serial::before {content: \"\";position: absolute;border-left: 1px solid gray;box-sizing: border-box;top: 0;bottom: 0;left: 50%;z-index: 0;}#sk-container-id-2 div.sk-serial {display: flex;flex-direction: column;align-items: center;background-color: white;padding-right: 0.2em;padding-left: 0.2em;position: relative;}#sk-container-id-2 div.sk-item {position: relative;z-index: 1;}#sk-container-id-2 div.sk-parallel {display: flex;align-items: stretch;justify-content: center;background-color: white;position: relative;}#sk-container-id-2 div.sk-item::before, #sk-container-id-2 div.sk-parallel-item::before {content: \"\";position: absolute;border-left: 1px solid gray;box-sizing: border-box;top: 0;bottom: 0;left: 50%;z-index: -1;}#sk-container-id-2 div.sk-parallel-item {display: flex;flex-direction: column;z-index: 1;position: relative;background-color: white;}#sk-container-id-2 div.sk-parallel-item:first-child::after {align-self: flex-end;width: 50%;}#sk-container-id-2 div.sk-parallel-item:last-child::after {align-self: flex-start;width: 50%;}#sk-container-id-2 div.sk-parallel-item:only-child::after {width: 0;}#sk-container-id-2 div.sk-dashed-wrapped {border: 1px dashed gray;margin: 0 0.4em 0.5em 0.4em;box-sizing: border-box;padding-bottom: 0.4em;background-color: white;}#sk-container-id-2 div.sk-label label {font-family: monospace;font-weight: bold;display: inline-block;line-height: 1.2em;}#sk-container-id-2 div.sk-label-container {text-align: center;}#sk-container-id-2 div.sk-container {/* jupyter's `normalize.less` sets `[hidden] { display: none; }` but bootstrap.min.css set `[hidden] { display: none !important; }` so we also need the `!important` here to be able to override the default hidden behavior on the sphinx rendered scikit-learn.org. See: https://github.com/scikit-learn/scikit-learn/issues/21755 */display: inline-block !important;position: relative;}#sk-container-id-2 div.sk-text-repr-fallback {display: none;}</style><div id=\"sk-container-id-2\" class=\"sk-top-container\"><div class=\"sk-text-repr-fallback\"><pre>GridSearchCV(cv=5, estimator=KNeighborsRegressor(),\n",
       "             param_grid={&#x27;n_neighbors&#x27;: [3, 5, 7, 9], &#x27;p&#x27;: [1, 2],\n",
       "                         &#x27;weights&#x27;: [&#x27;uniform&#x27;, &#x27;distance&#x27;]},\n",
       "             scoring=&#x27;neg_mean_squared_error&#x27;)</pre><b>In a Jupyter environment, please rerun this cell to show the HTML representation or trust the notebook. <br />On GitHub, the HTML representation is unable to render, please try loading this page with nbviewer.org.</b></div><div class=\"sk-container\" hidden><div class=\"sk-item sk-dashed-wrapped\"><div class=\"sk-label-container\"><div class=\"sk-label sk-toggleable\"><input class=\"sk-toggleable__control sk-hidden--visually\" id=\"sk-estimator-id-2\" type=\"checkbox\" ><label for=\"sk-estimator-id-2\" class=\"sk-toggleable__label sk-toggleable__label-arrow\">GridSearchCV</label><div class=\"sk-toggleable__content\"><pre>GridSearchCV(cv=5, estimator=KNeighborsRegressor(),\n",
       "             param_grid={&#x27;n_neighbors&#x27;: [3, 5, 7, 9], &#x27;p&#x27;: [1, 2],\n",
       "                         &#x27;weights&#x27;: [&#x27;uniform&#x27;, &#x27;distance&#x27;]},\n",
       "             scoring=&#x27;neg_mean_squared_error&#x27;)</pre></div></div></div><div class=\"sk-parallel\"><div class=\"sk-parallel-item\"><div class=\"sk-item\"><div class=\"sk-label-container\"><div class=\"sk-label sk-toggleable\"><input class=\"sk-toggleable__control sk-hidden--visually\" id=\"sk-estimator-id-3\" type=\"checkbox\" ><label for=\"sk-estimator-id-3\" class=\"sk-toggleable__label sk-toggleable__label-arrow\">estimator: KNeighborsRegressor</label><div class=\"sk-toggleable__content\"><pre>KNeighborsRegressor()</pre></div></div></div><div class=\"sk-serial\"><div class=\"sk-item\"><div class=\"sk-estimator sk-toggleable\"><input class=\"sk-toggleable__control sk-hidden--visually\" id=\"sk-estimator-id-4\" type=\"checkbox\" ><label for=\"sk-estimator-id-4\" class=\"sk-toggleable__label sk-toggleable__label-arrow\">KNeighborsRegressor</label><div class=\"sk-toggleable__content\"><pre>KNeighborsRegressor()</pre></div></div></div></div></div></div></div></div></div></div>"
      ],
      "text/plain": [
       "GridSearchCV(cv=5, estimator=KNeighborsRegressor(),\n",
       "             param_grid={'n_neighbors': [3, 5, 7, 9], 'p': [1, 2],\n",
       "                         'weights': ['uniform', 'distance']},\n",
       "             scoring='neg_mean_squared_error')"
      ]
     },
     "execution_count": 87,
     "metadata": {},
     "output_type": "execute_result"
    }
   ],
   "source": [
    "grid = GridSearchCV(estimator=knn, param_grid=params, scoring='neg_mean_squared_error', cv=5)\n",
    "grid.fit(x_train, y_train)"
   ]
  },
  {
   "cell_type": "code",
   "execution_count": null,
   "id": "befbb750",
   "metadata": {},
   "outputs": [],
   "source": []
  },
  {
   "cell_type": "code",
   "execution_count": 89,
   "id": "d31cb702",
   "metadata": {},
   "outputs": [
    {
     "data": {
      "text/plain": [
       "{'n_neighbors': 5, 'p': 1, 'weights': 'uniform'}"
      ]
     },
     "execution_count": 89,
     "metadata": {},
     "output_type": "execute_result"
    }
   ],
   "source": [
    "grid.best_params_"
   ]
  },
  {
   "cell_type": "code",
   "execution_count": null,
   "id": "d9637095",
   "metadata": {},
   "outputs": [],
   "source": []
  },
  {
   "cell_type": "code",
   "execution_count": 90,
   "id": "beed686d",
   "metadata": {},
   "outputs": [],
   "source": [
    "import joblib"
   ]
  },
  {
   "cell_type": "code",
   "execution_count": 91,
   "id": "a306f32b",
   "metadata": {},
   "outputs": [
    {
     "data": {
      "text/plain": [
       "['power_plant_linear.pkl']"
      ]
     },
     "execution_count": 91,
     "metadata": {},
     "output_type": "execute_result"
    }
   ],
   "source": [
    "joblib.dump(grid,'power_plant_linear.pkl')"
   ]
  },
  {
   "cell_type": "code",
   "execution_count": null,
   "id": "c2382a81",
   "metadata": {},
   "outputs": [],
   "source": []
  },
  {
   "cell_type": "code",
   "execution_count": 92,
   "id": "71cdf217",
   "metadata": {},
   "outputs": [
    {
     "data": {
      "text/html": [
       "<style>#sk-container-id-3 {color: black;background-color: white;}#sk-container-id-3 pre{padding: 0;}#sk-container-id-3 div.sk-toggleable {background-color: white;}#sk-container-id-3 label.sk-toggleable__label {cursor: pointer;display: block;width: 100%;margin-bottom: 0;padding: 0.3em;box-sizing: border-box;text-align: center;}#sk-container-id-3 label.sk-toggleable__label-arrow:before {content: \"▸\";float: left;margin-right: 0.25em;color: #696969;}#sk-container-id-3 label.sk-toggleable__label-arrow:hover:before {color: black;}#sk-container-id-3 div.sk-estimator:hover label.sk-toggleable__label-arrow:before {color: black;}#sk-container-id-3 div.sk-toggleable__content {max-height: 0;max-width: 0;overflow: hidden;text-align: left;background-color: #f0f8ff;}#sk-container-id-3 div.sk-toggleable__content pre {margin: 0.2em;color: black;border-radius: 0.25em;background-color: #f0f8ff;}#sk-container-id-3 input.sk-toggleable__control:checked~div.sk-toggleable__content {max-height: 200px;max-width: 100%;overflow: auto;}#sk-container-id-3 input.sk-toggleable__control:checked~label.sk-toggleable__label-arrow:before {content: \"▾\";}#sk-container-id-3 div.sk-estimator input.sk-toggleable__control:checked~label.sk-toggleable__label {background-color: #d4ebff;}#sk-container-id-3 div.sk-label input.sk-toggleable__control:checked~label.sk-toggleable__label {background-color: #d4ebff;}#sk-container-id-3 input.sk-hidden--visually {border: 0;clip: rect(1px 1px 1px 1px);clip: rect(1px, 1px, 1px, 1px);height: 1px;margin: -1px;overflow: hidden;padding: 0;position: absolute;width: 1px;}#sk-container-id-3 div.sk-estimator {font-family: monospace;background-color: #f0f8ff;border: 1px dotted black;border-radius: 0.25em;box-sizing: border-box;margin-bottom: 0.5em;}#sk-container-id-3 div.sk-estimator:hover {background-color: #d4ebff;}#sk-container-id-3 div.sk-parallel-item::after {content: \"\";width: 100%;border-bottom: 1px solid gray;flex-grow: 1;}#sk-container-id-3 div.sk-label:hover label.sk-toggleable__label {background-color: #d4ebff;}#sk-container-id-3 div.sk-serial::before {content: \"\";position: absolute;border-left: 1px solid gray;box-sizing: border-box;top: 0;bottom: 0;left: 50%;z-index: 0;}#sk-container-id-3 div.sk-serial {display: flex;flex-direction: column;align-items: center;background-color: white;padding-right: 0.2em;padding-left: 0.2em;position: relative;}#sk-container-id-3 div.sk-item {position: relative;z-index: 1;}#sk-container-id-3 div.sk-parallel {display: flex;align-items: stretch;justify-content: center;background-color: white;position: relative;}#sk-container-id-3 div.sk-item::before, #sk-container-id-3 div.sk-parallel-item::before {content: \"\";position: absolute;border-left: 1px solid gray;box-sizing: border-box;top: 0;bottom: 0;left: 50%;z-index: -1;}#sk-container-id-3 div.sk-parallel-item {display: flex;flex-direction: column;z-index: 1;position: relative;background-color: white;}#sk-container-id-3 div.sk-parallel-item:first-child::after {align-self: flex-end;width: 50%;}#sk-container-id-3 div.sk-parallel-item:last-child::after {align-self: flex-start;width: 50%;}#sk-container-id-3 div.sk-parallel-item:only-child::after {width: 0;}#sk-container-id-3 div.sk-dashed-wrapped {border: 1px dashed gray;margin: 0 0.4em 0.5em 0.4em;box-sizing: border-box;padding-bottom: 0.4em;background-color: white;}#sk-container-id-3 div.sk-label label {font-family: monospace;font-weight: bold;display: inline-block;line-height: 1.2em;}#sk-container-id-3 div.sk-label-container {text-align: center;}#sk-container-id-3 div.sk-container {/* jupyter's `normalize.less` sets `[hidden] { display: none; }` but bootstrap.min.css set `[hidden] { display: none !important; }` so we also need the `!important` here to be able to override the default hidden behavior on the sphinx rendered scikit-learn.org. See: https://github.com/scikit-learn/scikit-learn/issues/21755 */display: inline-block !important;position: relative;}#sk-container-id-3 div.sk-text-repr-fallback {display: none;}</style><div id=\"sk-container-id-3\" class=\"sk-top-container\"><div class=\"sk-text-repr-fallback\"><pre>GridSearchCV(cv=5, estimator=KNeighborsRegressor(),\n",
       "             param_grid={&#x27;n_neighbors&#x27;: [3, 5, 7, 9], &#x27;p&#x27;: [1, 2],\n",
       "                         &#x27;weights&#x27;: [&#x27;uniform&#x27;, &#x27;distance&#x27;]},\n",
       "             scoring=&#x27;neg_mean_squared_error&#x27;)</pre><b>In a Jupyter environment, please rerun this cell to show the HTML representation or trust the notebook. <br />On GitHub, the HTML representation is unable to render, please try loading this page with nbviewer.org.</b></div><div class=\"sk-container\" hidden><div class=\"sk-item sk-dashed-wrapped\"><div class=\"sk-label-container\"><div class=\"sk-label sk-toggleable\"><input class=\"sk-toggleable__control sk-hidden--visually\" id=\"sk-estimator-id-5\" type=\"checkbox\" ><label for=\"sk-estimator-id-5\" class=\"sk-toggleable__label sk-toggleable__label-arrow\">GridSearchCV</label><div class=\"sk-toggleable__content\"><pre>GridSearchCV(cv=5, estimator=KNeighborsRegressor(),\n",
       "             param_grid={&#x27;n_neighbors&#x27;: [3, 5, 7, 9], &#x27;p&#x27;: [1, 2],\n",
       "                         &#x27;weights&#x27;: [&#x27;uniform&#x27;, &#x27;distance&#x27;]},\n",
       "             scoring=&#x27;neg_mean_squared_error&#x27;)</pre></div></div></div><div class=\"sk-parallel\"><div class=\"sk-parallel-item\"><div class=\"sk-item\"><div class=\"sk-label-container\"><div class=\"sk-label sk-toggleable\"><input class=\"sk-toggleable__control sk-hidden--visually\" id=\"sk-estimator-id-6\" type=\"checkbox\" ><label for=\"sk-estimator-id-6\" class=\"sk-toggleable__label sk-toggleable__label-arrow\">estimator: KNeighborsRegressor</label><div class=\"sk-toggleable__content\"><pre>KNeighborsRegressor()</pre></div></div></div><div class=\"sk-serial\"><div class=\"sk-item\"><div class=\"sk-estimator sk-toggleable\"><input class=\"sk-toggleable__control sk-hidden--visually\" id=\"sk-estimator-id-7\" type=\"checkbox\" ><label for=\"sk-estimator-id-7\" class=\"sk-toggleable__label sk-toggleable__label-arrow\">KNeighborsRegressor</label><div class=\"sk-toggleable__content\"><pre>KNeighborsRegressor()</pre></div></div></div></div></div></div></div></div></div></div>"
      ],
      "text/plain": [
       "GridSearchCV(cv=5, estimator=KNeighborsRegressor(),\n",
       "             param_grid={'n_neighbors': [3, 5, 7, 9], 'p': [1, 2],\n",
       "                         'weights': ['uniform', 'distance']},\n",
       "             scoring='neg_mean_squared_error')"
      ]
     },
     "execution_count": 92,
     "metadata": {},
     "output_type": "execute_result"
    }
   ],
   "source": [
    "model_2 = joblib.load('power_plant_linear.pkl')\n",
    "model_2"
   ]
  },
  {
   "cell_type": "code",
   "execution_count": 93,
   "id": "f39fc279",
   "metadata": {},
   "outputs": [
    {
     "data": {
      "text/plain": [
       "array([ 124.936 ,   17.95  ,  383.64  ,  411.92  ,  135.6   ,    5.28  ,\n",
       "        219.8   ,   11.44  ,  862.    ,   31.2   ,   56.2   ,   59.2   ,\n",
       "         23.56  ,   92.28  ,   75.8   ,   23.23  ,   12.59  ,  459.92  ,\n",
       "        205.    ,  241.5   ,    8.    ,   17.95  ,   15.2   ,  466.804 ,\n",
       "         22.952 ,   24.35  ,  660.    ,    3.    ,   24.4   ,   21.36  ,\n",
       "        716.    ,  470.104 ,  683.4542, 1088.6   ,  285.75  ,  116.8   ,\n",
       "        362.5   , 1008.    ,  484.2   ,   53.8   ,  592.866 ,  335.68  ,\n",
       "       1186.    ,   88.7   ,   12.59  , 1268.    ,  642.    ,   18.04  ,\n",
       "        463.8948,   15.8   ,   61.98  ,  205.    ,   37.88  , 1451.    ,\n",
       "         53.24  ,  142.16  ,  857.    ,   59.2   ,  122.3   ,  307.    ,\n",
       "         29.292 ,  842.    ,   54.8   ,  732.    ,   26.4   ,   22.6   ,\n",
       "        470.    ,   14.4   ,   46.06  ,  122.3   ,  135.6   ,   26.42  ,\n",
       "        135.6   ,   95.6   , 1114.    , 2030.    ,  683.4542,  732.    ,\n",
       "         83.4   ,  107.7   ,  142.16  ,   12.7   ,  184.68  ,   85.7   ,\n",
       "        362.5   ,  847.6   ,  683.4542,   23.59  ,  984.    ,   11.64  ,\n",
       "         49.83  ,  295.2   ,   75.7   ,   14.24  ,  375.    ,   83.4   ,\n",
       "         40.66  ,  183.2   ,  984.    ,  284.    ,  683.4542,  230.76  ,\n",
       "        724.6   ,  667.04  ,   96.    ,   38.04  ,  326.    ,  217.8   ,\n",
       "        683.4542,  566.    ,   15.29  ,  205.    ,  579.156 ,  909.    ,\n",
       "        431.84  ,  327.3142,   70.7   ,  217.8   ,  457.76  , 1260.    ,\n",
       "         15.29  ,   14.2   ,   16.64  ,   10.24  ,   36.7   ,  307.    ,\n",
       "       1852.    ,  415.86  ,   24.35  ,   27.01  ,  435.316 ,  284.    ,\n",
       "        455.1968,   53.24  ,  152.    ,  531.89  ,   21.1   , 1684.    ,\n",
       "         17.95  ,   89.44  ,   14.6   ,  152.    ,  229.6   ,  584.6   ,\n",
       "         24.35  ,   11.24  ,  171.2   ,  995.    ,  150.74  ,   12.51  ,\n",
       "        732.    ,    5.    ,   67.14  ,  200.6   ,   59.82  ,  117.76  ,\n",
       "         90.5   ,   99.92  ,   34.1   ,   99.34  , 1042.    ,  470.    ,\n",
       "        124.936 ,   18.84  ,   89.44  , 1984.8   ,  412.    ,  391.68  ,\n",
       "       1273.22  ,  116.8   ,  333.56  ,  671.8   ,  157.34  ,   83.4   ,\n",
       "        256.54  ,   98.4   ,  844.    ,  457.12  , 1148.    ,   95.6   ,\n",
       "       1114.    ,   53.9   ,  701.    ,  184.    ,   32.2   ,   53.9   ,\n",
       "        135.6   , 1268.    ,  753.8   ,    7.    ,  230.76  ,   18.3   ,\n",
       "         21.14  ,  116.8   ,   35.28  ,  152.    ,   39.7   ,  142.1   ,\n",
       "          6.4   ,  292.4   ,   81.2   ,  405.    , 1273.22  ,   54.58  ,\n",
       "         81.2   ,  144.8   ,  683.4542,   29.32  ,   70.7   ,  184.68  ,\n",
       "        373.    ,   39.44  , 1620.    ,   17.01  ,  311.    , 1148.    ,\n",
       "        289.77  ,  497.6   ,   35.28  ,  184.68  , 1090.    ,  411.92  ,\n",
       "        135.6   ,  391.68  ,   43.7   ,  373.    ,   24.27  ,  800.    ,\n",
       "         96.78  ,  592.    ,   12.7   ,   28.34  ,   46.28  ,  401.    ,\n",
       "       1247.22  ,  135.6   ,   16.04  ,   17.64  ,   38.28  ,   32.09  ,\n",
       "        288.44  ,   71.    , 1247.22  ,  307.    ,  716.    ,  732.    ,\n",
       "        470.4   ,  278.64  ,   39.7   ,   20.31  ,   94.8   ,  311.    ,\n",
       "         78.64  ,   46.16  ,   31.3   ,  940.    ,   10.01  , 1148.    ,\n",
       "       1984.8   ,  683.4542,   43.8   ,   61.35  ,   28.13  ,   12.    ,\n",
       "         29.05  ,   78.64  ,   78.64  ,  847.6   ,  984.    ,   14.    ,\n",
       "         18.24  ,  517.6   ,    5.44  ])"
      ]
     },
     "execution_count": 93,
     "metadata": {},
     "output_type": "execute_result"
    }
   ],
   "source": [
    "pred_x1 = model_2.predict(x_test)\n",
    "pred_x1"
   ]
  },
  {
   "cell_type": "code",
   "execution_count": null,
   "id": "e341640f",
   "metadata": {},
   "outputs": [],
   "source": []
  },
  {
   "cell_type": "code",
   "execution_count": 95,
   "id": "a6b42ec9",
   "metadata": {},
   "outputs": [
    {
     "data": {
      "text/html": [
       "<div>\n",
       "<style scoped>\n",
       "    .dataframe tbody tr th:only-of-type {\n",
       "        vertical-align: middle;\n",
       "    }\n",
       "\n",
       "    .dataframe tbody tr th {\n",
       "        vertical-align: top;\n",
       "    }\n",
       "\n",
       "    .dataframe thead th {\n",
       "        text-align: right;\n",
       "    }\n",
       "</style>\n",
       "<table border=\"1\" class=\"dataframe\">\n",
       "  <thead>\n",
       "    <tr style=\"text-align: right;\">\n",
       "      <th></th>\n",
       "      <th>model predicted</th>\n",
       "      <th>original</th>\n",
       "    </tr>\n",
       "    <tr>\n",
       "      <th>country</th>\n",
       "      <th></th>\n",
       "      <th></th>\n",
       "    </tr>\n",
       "  </thead>\n",
       "  <tbody>\n",
       "    <tr>\n",
       "      <th>IND</th>\n",
       "      <td>124.936</td>\n",
       "      <td>187.2</td>\n",
       "    </tr>\n",
       "    <tr>\n",
       "      <th>IND</th>\n",
       "      <td>17.950</td>\n",
       "      <td>50.4</td>\n",
       "    </tr>\n",
       "    <tr>\n",
       "      <th>IND</th>\n",
       "      <td>383.640</td>\n",
       "      <td>41.4</td>\n",
       "    </tr>\n",
       "    <tr>\n",
       "      <th>IND</th>\n",
       "      <td>411.920</td>\n",
       "      <td>770.0</td>\n",
       "    </tr>\n",
       "    <tr>\n",
       "      <th>IND</th>\n",
       "      <td>135.600</td>\n",
       "      <td>4.5</td>\n",
       "    </tr>\n",
       "    <tr>\n",
       "      <th>...</th>\n",
       "      <td>...</td>\n",
       "      <td>...</td>\n",
       "    </tr>\n",
       "    <tr>\n",
       "      <th>IND</th>\n",
       "      <td>984.000</td>\n",
       "      <td>246.0</td>\n",
       "    </tr>\n",
       "    <tr>\n",
       "      <th>IND</th>\n",
       "      <td>14.000</td>\n",
       "      <td>5.8</td>\n",
       "    </tr>\n",
       "    <tr>\n",
       "      <th>IND</th>\n",
       "      <td>18.240</td>\n",
       "      <td>20.0</td>\n",
       "    </tr>\n",
       "    <tr>\n",
       "      <th>IND</th>\n",
       "      <td>517.600</td>\n",
       "      <td>1000.0</td>\n",
       "    </tr>\n",
       "    <tr>\n",
       "      <th>IND</th>\n",
       "      <td>5.440</td>\n",
       "      <td>10.0</td>\n",
       "    </tr>\n",
       "  </tbody>\n",
       "</table>\n",
       "<p>273 rows × 2 columns</p>\n",
       "</div>"
      ],
      "text/plain": [
       "         model predicted  original\n",
       "country                           \n",
       "IND              124.936     187.2\n",
       "IND               17.950      50.4\n",
       "IND              383.640      41.4\n",
       "IND              411.920     770.0\n",
       "IND              135.600       4.5\n",
       "...                  ...       ...\n",
       "IND              984.000     246.0\n",
       "IND               14.000       5.8\n",
       "IND               18.240      20.0\n",
       "IND              517.600    1000.0\n",
       "IND                5.440      10.0\n",
       "\n",
       "[273 rows x 2 columns]"
      ]
     },
     "execution_count": 95,
     "metadata": {},
     "output_type": "execute_result"
    }
   ],
   "source": [
    "data_2 = pd.DataFrame({'model predicted':pred_x1,'original':y_test})\n",
    "data_2"
   ]
  },
  {
   "cell_type": "code",
   "execution_count": null,
   "id": "7ac74221",
   "metadata": {},
   "outputs": [],
   "source": []
  },
  {
   "cell_type": "code",
   "execution_count": null,
   "id": "e2033fb5",
   "metadata": {},
   "outputs": [],
   "source": []
  },
  {
   "cell_type": "code",
   "execution_count": null,
   "id": "5141e612",
   "metadata": {},
   "outputs": [],
   "source": []
  },
  {
   "cell_type": "code",
   "execution_count": null,
   "id": "a66b0f61",
   "metadata": {},
   "outputs": [],
   "source": []
  }
 ],
 "metadata": {
  "kernelspec": {
   "display_name": "Python 3 (ipykernel)",
   "language": "python",
   "name": "python3"
  },
  "language_info": {
   "codemirror_mode": {
    "name": "ipython",
    "version": 3
   },
   "file_extension": ".py",
   "mimetype": "text/x-python",
   "name": "python",
   "nbconvert_exporter": "python",
   "pygments_lexer": "ipython3",
   "version": "3.11.3"
  }
 },
 "nbformat": 4,
 "nbformat_minor": 5
}
